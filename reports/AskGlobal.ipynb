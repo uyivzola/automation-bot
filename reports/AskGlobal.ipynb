{
 "cells": [
  {
   "cell_type": "code",
   "execution_count": null,
   "id": "initial_id",
   "metadata": {
    "collapsed": true
   },
   "outputs": [],
   "source": [
    "import os\n",
    "from datetime import datetime\n",
    "\n",
    "import pandas as pd\n",
    "from dotenv import load_dotenv\n",
    "from sqlalchemy import create_engine\n",
    "\n",
    "output_file_path = 'new_plan.xlsx'\n",
    "\n",
    "# Load data from different sheets in 'promotion.xlsx' into DataFrames\n",
    "promotion_path = r'D:\\Projects\\promotion.xlsx'\n",
    "region_df = pd.read_excel(promotion_path, sheet_name='Region')\n",
    "aksiya_df = pd.read_excel(promotion_path, sheet_name='Aksiya')\n",
    "paket_df = pd.read_excel(promotion_path, sheet_name='Paket')\n",
    "types_df = pd.read_excel(promotion_path, sheet_name='TYPES')\n",
    "\n",
    "env_file_path = 'D:/Projects/.env'\n",
    "load_dotenv(env_file_path)\n",
    "db_server = os.getenv(\"DB_SERVER\")\n",
    "db_database = os.getenv(\"DB_DATABASE_ASKGLOBAL\")\n",
    "db_user = os.getenv(\"DB_USER\")\n",
    "db_password = os.getenv(\"DB_PASSWORD\")\n",
    "db_port = os.getenv(\"DB_PORT\")\n",
    "db_driver_name = os.getenv(\"DB_DRIVER_NAME\")\n",
    "\n",
    "conn_str = f\"mssql+pyodbc://{db_user}:{db_password}@{db_server}:{db_port}/{db_database}?driver={db_driver_name}\"\n",
    "engine = create_engine(conn_str)\n",
    "\n",
    "start_date = datetime(2024, 2, 1).strftime('%Y%m%d')\n",
    "tomorrow_date = datetime(2024, 3, 31).strftime('%Y%m%d')\n",
    "\n",
    "sql_query: str = \"\"\"\n",
    "SELECT O.Name                    as Base,\n",
    "       D.Name                    AS DocKind,\n",
    "       i.Number                  AS InvoiceNumber,\n",
    "       G.GoodId                  as Goodid,\n",
    "       G.Name                    AS GoodName,\n",
    "       M.Name                    AS Producer,\n",
    "       C.Inn                     as Inn,\n",
    "       C.FindName                AS ClientName,\n",
    "       PIM.Name                  AS InvoiceManager,\n",
    "       PCM.Name                  AS ClientManager,\n",
    "       I.PaymentTerm,\n",
    "       il.pBasePrice             as BasePrice,\n",
    "       il.Price                  as SellingPrice,\n",
    "       il.Kolich                 AS Quantity,\n",
    "       I.DataEntered            AS DataEntered,\n",
    "       il.pBasePrice * il.Kolich AS BaseAmount,\n",
    "       il.pSumma                 AS TotalAmount\n",
    "FROM INVOICELN il\n",
    "         JOIN INVOICE i ON il.InvoiceId = i.InvoiceId\n",
    "         JOIN PERSONAL PIM ON i.PersonalId = PIM.PersonalId\n",
    "         JOIN DOCKIND D ON i.DocKindId = D.DocKindId\n",
    "         JOIN CLIENT C ON i.ClientId = C.ClientId\n",
    "         JOIN INCOMELN incl ON il.IncomeLnId = incl.IncomeLnId\n",
    "         JOIN Good G ON incl.GoodId = G.GoodId\n",
    "         JOIN Producer M ON M.ProducerId = G.ProducerId\n",
    "         JOIN PERSONAL PCM ON C.PersonalId = PCM.PersonalId\n",
    "         join OFFICE O on C.OfficeId = O.OfficeId\n",
    "\n",
    "WHERE YEAR(I.DataEntered) = 2024\n",
    "  and MONTH(I.DataEntered) = 3\n",
    "  and D.name IN ('Финансовая скидка', 'Оптовая реализация', 'Возврат товара от покупателя')\n",
    "order by i.DataEntered desc;\n",
    "\"\"\"\n",
    "\n",
    "#####################  EXECUTION  ######################\n",
    "df = pd.read_sql_query(sql_query, engine)\n",
    "df['DataEntered'] = pd.to_datetime(df['DataEntered'])\n",
    "df = df[(df['DataEntered'].dt.year == 2024) & (df['DataEntered'].dt.month==3)]"
   ]
  },
  {
   "cell_type": "code",
   "outputs": [],
   "source": [
    "\n",
    "df = pd.merge(df, region_df[['ClientMan', 'Region']], left_on='ClientManager', right_on='ClientMan', how='left')\n",
    "\n",
    "df = pd.merge(df, aksiya_df[['Goodid', 'Aksiya']], left_on='Goodid', right_on='Goodid', how='left')\n",
    "df = pd.merge(df, paket_df[['Goodid', 'Paket']], left_on='Goodid', right_on='Goodid', how='left')\n"
   ],
   "metadata": {
    "collapsed": false
   },
   "id": "67da5a44fde7a71",
   "execution_count": null
  },
  {
   "cell_type": "code",
   "outputs": [
    {
     "data": {
      "text/plain": "Index(['Base', 'DocKind', 'InvoiceNumber', 'Goodid', 'GoodName', 'Producer',\n       'Inn', 'ClientName', 'InvoiceManager', 'ClientManager', 'PaymentTerm',\n       'BasePrice', 'SellingPrice', 'Quantity', 'DataEntered', 'BaseAmount',\n       'TotalAmount', 'ClientMan', 'Region', 'Aksiya', 'Paket'],\n      dtype='object')"
     },
     "execution_count": 10,
     "metadata": {},
     "output_type": "execute_result"
    }
   ],
   "source": [
    "df.columns"
   ],
   "metadata": {
    "collapsed": false,
    "ExecuteTime": {
     "end_time": "2024-03-06T16:29:48.254357Z",
     "start_time": "2024-03-06T16:29:48.249584Z"
    }
   },
   "id": "37ecec80067dc0f7",
   "execution_count": 10
  },
  {
   "cell_type": "markdown",
   "source": [],
   "metadata": {
    "collapsed": false
   },
   "id": "53c28440e2dd0cdd"
  }
 ],
 "metadata": {
  "kernelspec": {
   "display_name": "Python 3",
   "language": "python",
   "name": "python3"
  },
  "language_info": {
   "codemirror_mode": {
    "name": "ipython",
    "version": 2
   },
   "file_extension": ".py",
   "mimetype": "text/x-python",
   "name": "python",
   "nbconvert_exporter": "python",
   "pygments_lexer": "ipython2",
   "version": "2.7.6"
  }
 },
 "nbformat": 4,
 "nbformat_minor": 5
}
