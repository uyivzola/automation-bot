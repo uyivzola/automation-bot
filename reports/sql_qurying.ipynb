{
 "cells": [
  {
   "cell_type": "code",
   "execution_count": null,
   "id": "initial_id",
   "metadata": {
    "collapsed": true
   },
   "outputs": [],
   "source": [
    "import os\n",
    "from datetime import date  # For working with dates\n",
    "\n",
    "import pandas as pd  # For working with DataFrames\n",
    "from dotenv import load_dotenv\n",
    "from sqlalchemy import create_engine  # For crea\n",
    "\n",
    "##################### LOADING IMPORTANT DATA ######################\n",
    "# Load environment variables from the .env file\n",
    "env_file_path = r'D:/Projects/.env'\n",
    "load_dotenv(env_file_path)\n",
    "# Giving output file name\n",
    "output_file_path = 'MONTHLY.xlsx'\n",
    "# Load data from different sheets in 'promotion.xlsx' into DataFrames\n",
    "promotion_path = r'D:\\Projects\\promotion.xlsx'\n",
    "region_df = pd.read_excel(promotion_path, sheet_name='Region')\n",
    "aksiya_df = pd.read_excel(promotion_path, sheet_name='Aksiya')\n",
    "paket_df = pd.read_excel(promotion_path, sheet_name='Paket')\n",
    "types_df = pd.read_excel(promotion_path, sheet_name='TYPES')\n",
    "##################### ACCESS ENV VARIABLES ######################\n",
    "db_server = os.getenv(\"DB_SERVER\")\n",
    "db_database = os.getenv(\"DB_DATABASE_SERGELI\")\n",
    "db_user = os.getenv(\"DB_USER\")\n",
    "db_password = os.getenv(\"DB_PASSWORD\")\n",
    "db_port = os.getenv(\"DB_PORT\")\n",
    "db_driver_name = os.getenv(\"DB_DRIVER_NAME\")\n",
    "\n",
    "##################### PROCEDURE NAME ######################\n",
    "\n",
    "start_date = date(2024, 3, 1).strftime('%Y%m%d')\n",
    "end_date = date(2024, 3, 31).strftime('%Y%m%d')\n",
    "\n",
    "##################### CONNECTION STRING AND SQL QUERY ######################\n",
    "# Construct the connection string\n",
    "conn_str = f\"mssql+pyodbc://{db_user}:{db_password}@{db_server}:{db_port}/{db_database}?driver={db_driver_name}\"\n",
    "engine = create_engine(conn_str)\n",
    "\n",
    "\n",
    "# SQL query with placeholders for parameters\n",
    "sql_query = \"\"\"\n",
    "DECLARE @DateBegin DATE = CAST(? AS DATE);\n",
    "DECLARE @DateEnd DATE = CAST(? AS DATE);\n",
    "DECLARE @GoodName NVARCHAR(255) = ?;\n",
    "DECLARE @ClientManager NVARCHAR(255) = ?;\n",
    "\n",
    "SELECT D.Name                    AS DocKind,\n",
    "       i.Number                  AS InvoiceNumber,\n",
    "       G.Name                    AS GoodName,\n",
    "       M.Name                    AS Producer,\n",
    "       C.Inn                     as Inn,\n",
    "       C.FindName                AS ClientName,\n",
    "       PIM.Name                  AS InvoiceManager,\n",
    "       PCM.Name                  AS ClientManager,\n",
    "       I.PaymentTerm,\n",
    "       il.pBasePrice             as BasePrice,\n",
    "       il.Price                  as SellingPrice,\n",
    "       il.Kolich                 AS Quantity,\n",
    "       I.DataEntered,\n",
    "       il.pBasePrice * il.Kolich AS BaseAmount,\n",
    "       il.pSumma                 AS TotalAmount\n",
    "FROM INVOICELN il\n",
    "         JOIN INVOICE i ON il.InvoiceId = i.InvoiceId\n",
    "         JOIN PERSONAL PIM ON i.PersonalId = PIM.PersonalId\n",
    "         JOIN DOCKIND D ON i.DocKindId = D.DocKindId\n",
    "         JOIN CLIENT C ON i.ClientId = C.ClientId\n",
    "         JOIN INCOMELN incl ON il.IncomeLnId = incl.IncomeLnId\n",
    "         JOIN Good G ON incl.GoodId = G.GoodId\n",
    "         JOIN Producer M ON M.ProducerId = G.ProducerId\n",
    "         JOIN PERSONAL PCM ON C.PersonalId = PCM.PersonalId\n",
    "WHERE i.DataEntered >= @DateBegin\n",
    "  AND i.DataEntered <= @DateEnd\n",
    "  AND (D.name = 'Финансовая скидка' OR D.name = 'Оптовая реализация')\n",
    "  AND (ISNULL(@GoodName, '') = '' OR G.Name = @GoodName)\n",
    "  AND (ISNULL(@ClientManager, '') = '' OR PCM.Name = @ClientManager)\n",
    "\n",
    "ORDER BY i.DataEntered DESC\n",
    "\"\"\"\n",
    "\n",
    "# Execute the query using parameters\n",
    "df = pd.read_sql_query(sql_query, engine, params=(start_date, end_date,'','(Джиз) Кушбаков Зокир'))\n"
   ]
  },
  {
   "cell_type": "code",
   "outputs": [],
   "source": [
    "df"
   ],
   "metadata": {
    "collapsed": false
   },
   "id": "a46a05439a1b0229",
   "execution_count": null
  },
  {
   "cell_type": "code",
   "outputs": [],
   "source": [
    "import os\n",
    "from datetime import date  # For working with dates\n",
    "\n",
    "import pandas as pd  # For working with DataFrames\n",
    "from dotenv import load_dotenv\n",
    "from sqlalchemy import create_engine  # For crea\n",
    "\n",
    "##################### LOADING IMPORTANT DATA ######################\n",
    "# Load environment variables from the .env file\n",
    "env_file_path = r'D:/Projects/.env'\n",
    "load_dotenv(env_file_path)\n",
    "# Giving output file name\n",
    "output_file_path = 'MONTHLY.xlsx'\n",
    "# Load data from different sheets in 'promotion.xlsx' into DataFrames\n",
    "promotion_path = r'D:\\Projects\\promotion.xlsx'\n",
    "region_df = pd.read_excel(promotion_path, sheet_name='Region')\n",
    "aksiya_df = pd.read_excel(promotion_path, sheet_name='Aksiya')\n",
    "paket_df = pd.read_excel(promotion_path, sheet_name='Paket')\n",
    "types_df = pd.read_excel(promotion_path, sheet_name='TYPES')\n",
    "##################### ACCESS ENV VARIABLES ######################\n",
    "db_server = os.getenv(\"DB_SERVER\")\n",
    "db_database = os.getenv(\"DB_DATABASE_SERGELI\")\n",
    "db_user = os.getenv(\"DB_USER\")\n",
    "db_password = os.getenv(\"DB_PASSWORD\")\n",
    "db_port = os.getenv(\"DB_PORT\")\n",
    "db_driver_name = os.getenv(\"DB_DRIVER_NAME\")\n",
    "\n",
    "##################### PROCEDURE NAME ######################\n",
    "\n",
    "start_date = date(2024, 3, 1).strftime('%Y%m%d')\n",
    "end_date = date(2024, 3, 31).strftime('%Y%m%d')\n",
    "\n",
    "##################### CONNECTION STRING AND SQL QUERY ######################\n",
    "# Construct the connection string\n",
    "conn_str = f\"mssql+pyodbc://{db_user}:{db_password}@{db_server}:{db_port}/{db_database}?driver={db_driver_name}\"\n",
    "engine = create_engine(conn_str)\n",
    "\n",
    "\n",
    "# SQL query with placeholders for parameters\n",
    "sql_query = \"\"\"exec pPriceList_excel\"\"\"\n",
    "\n",
    "# Execute the query using parameters\n",
    "df = pd.read_sql_query(sql_query, engine)\n"
   ],
   "metadata": {
    "collapsed": false
   },
   "id": "505ece9c734669bb",
   "execution_count": null
  },
  {
   "cell_type": "code",
   "outputs": [],
   "source": [
    "df"
   ],
   "metadata": {
    "collapsed": false
   },
   "id": "cc402fd9c8ed5a76",
   "execution_count": null
  },
  {
   "cell_type": "code",
   "outputs": [],
   "source": [
    "df.shape"
   ],
   "metadata": {
    "collapsed": false
   },
   "id": "aec9210a76924e9b",
   "execution_count": null
  },
  {
   "cell_type": "code",
   "outputs": [
    {
     "name": "stderr",
     "output_type": "stream",
     "text": [
      "C:\\Users\\b.hidirov\\AppData\\Local\\Programs\\Python\\Python312\\Lib\\site-packages\\openpyxl\\worksheet\\header_footer.py:48: UserWarning: Cannot parse header or footer so it will be ignored\n",
      "  warn(\"\"\"Cannot parse header or footer so it will be ignored\"\"\")\n"
     ]
    }
   ],
   "source": [
    "x=pd.read_excel('pricelist_from_delphi.xlsx')"
   ],
   "metadata": {
    "collapsed": false,
    "ExecuteTime": {
     "end_time": "2024-04-08T11:18:17.142701Z",
     "start_time": "2024-04-08T11:18:16.482259Z"
    }
   },
   "id": "d40718969159032e",
   "execution_count": 24
  },
  {
   "cell_type": "code",
   "outputs": [
    {
     "data": {
      "text/plain": "      GoodId                                               Name       EdIzm  \\\n5275   99234                        Коляска-кресло  инвалидная   шт           \n1063   82742          Ксаврон 1,5мг/мл 20мл №10 р-р д/инъекций   штук         \n2786   96171        Тресиба ФлексТач 100 ЕД/мл 3 мл №5 р-р д/и.  шт/дона      \n2868  126624             Амицил 1,0 №40 лиофил д/приг.р-ра д/и.  уп           \n2919   82515  КомбиГилан 2,25мл р-р д/инъекций в преднап.шприце  штук         \n...      ...                                                ...         ...   \n4001   90788                           Гематоген шоколадный 40г  шт           \n4000   69571                        Гематоген с черносливом 40г  штук         \n3999   87941                            Гематоген с кокосом 40г  шт/дона      \n3998   87626                           Гематоген с арахисом 40г  штук         \n4247   82654                  Масло растаропши 500г №90 капс.    штук         \n\n      GrKol  PriceLimit                    Producer       Price  MinPercent  \\\n5275    1.0         NaN  Hengshui Zhonqhao Medical   1214628.87         0.0   \n1063   20.0         NaN                   Юрия-Фарм  1043053.39         0.0   \n2786   48.0         NaN                Novo Nordisc  1009449.37         0.0   \n2868    6.0         NaN                Киевмедпреп.   970950.98         0.0   \n2919   45.0         NaN  Ромфарм Компании - Румыния   760015.12         0.0   \n...     ...         ...                         ...         ...         ...   \n4001  125.0         NaN                   Экзон ОАО     2683.48         0.0   \n4000  125.0         NaN                   Экзон ОАО     2783.87         0.0   \n3999  125.0         NaN                   Экзон ОАО     2783.87         0.0   \n3998  125.0         NaN                   Экзон ОАО     2783.87         0.0   \n4247   50.0         NaN          Shanaz Узбекистан     34560.00         0.0   \n\n      MaxPercent  DiscountPercent  ...  FreeOstatok  IncomeData     Store  \\\n5275      1000.0              0.0  ...          2.0  2023-12-13  Склад №1   \n1063      1000.0              0.0  ...          2.0  2024-03-30  Склад №1   \n2786      1000.0              0.0  ...         85.0  2024-03-28  Склад №1   \n2868      1000.0              0.0  ...          0.0  2023-12-13  Склад №1   \n2919      1000.0              0.0  ...        240.0  2024-02-14  Склад №1   \n...          ...              ...  ...          ...         ...       ...   \n4001      1000.0              0.0  ...       2736.0  2023-12-27  Склад №1   \n4000      1000.0              0.0  ...       3073.0  2023-12-27  Склад №1   \n3999      1000.0              0.0  ...       1331.0  2023-12-27  Склад №1   \n3998      1000.0              0.0  ...       1887.0  2023-12-27  Склад №1   \n4247      1000.0              0.0  ...         27.0  2023-09-28  Склад №1   \n\n               StoreDep  StoreId  StoreDepId  HasMaxPrice  Load  \\\n5275  Сумовой Импортный        1           1            0  None   \n1063      Валютный №2-Т        1          17            0  None   \n2786       Валютный-М-Б        1          19            0  None   \n2868       Валютный-П-Б        1          20            0  None   \n2919       Валютный-П-Б        1          20            0  None   \n...                 ...      ...         ...          ...   ...   \n4001                НБО        1          10            0  None   \n4000                НБО        1          10            0  None   \n3999                НБО        1          10            0  None   \n3998                НБО        1          10            0  None   \n4247                НБО        1          10            0  None   \n\n     WholesalePrice Нагрузка/Нагружаемый  \n5275            NaN                       \n1063     1244973.94                       \n2786     1157241.18                       \n2868            NaN                       \n2919            NaN                       \n...             ...                  ...  \n4001            NaN                       \n4000            NaN                       \n3999            NaN                       \n3998            NaN                       \n4247            NaN                       \n\n[8495 rows x 26 columns]",
      "text/html": "<div>\n<style scoped>\n    .dataframe tbody tr th:only-of-type {\n        vertical-align: middle;\n    }\n\n    .dataframe tbody tr th {\n        vertical-align: top;\n    }\n\n    .dataframe thead th {\n        text-align: right;\n    }\n</style>\n<table border=\"1\" class=\"dataframe\">\n  <thead>\n    <tr style=\"text-align: right;\">\n      <th></th>\n      <th>GoodId</th>\n      <th>Name</th>\n      <th>EdIzm</th>\n      <th>GrKol</th>\n      <th>PriceLimit</th>\n      <th>Producer</th>\n      <th>Price</th>\n      <th>MinPercent</th>\n      <th>MaxPercent</th>\n      <th>DiscountPercent</th>\n      <th>...</th>\n      <th>FreeOstatok</th>\n      <th>IncomeData</th>\n      <th>Store</th>\n      <th>StoreDep</th>\n      <th>StoreId</th>\n      <th>StoreDepId</th>\n      <th>HasMaxPrice</th>\n      <th>Load</th>\n      <th>WholesalePrice</th>\n      <th>Нагрузка/Нагружаемый</th>\n    </tr>\n  </thead>\n  <tbody>\n    <tr>\n      <th>5275</th>\n      <td>99234</td>\n      <td>Коляска-кресло  инвалидная</td>\n      <td>шт</td>\n      <td>1.0</td>\n      <td>NaN</td>\n      <td>Hengshui Zhonqhao Medical</td>\n      <td>1214628.87</td>\n      <td>0.0</td>\n      <td>1000.0</td>\n      <td>0.0</td>\n      <td>...</td>\n      <td>2.0</td>\n      <td>2023-12-13</td>\n      <td>Склад №1</td>\n      <td>Сумовой Импортный</td>\n      <td>1</td>\n      <td>1</td>\n      <td>0</td>\n      <td>None</td>\n      <td>NaN</td>\n      <td></td>\n    </tr>\n    <tr>\n      <th>1063</th>\n      <td>82742</td>\n      <td>Ксаврон 1,5мг/мл 20мл №10 р-р д/инъекций</td>\n      <td>штук</td>\n      <td>20.0</td>\n      <td>NaN</td>\n      <td>Юрия-Фарм</td>\n      <td>1043053.39</td>\n      <td>0.0</td>\n      <td>1000.0</td>\n      <td>0.0</td>\n      <td>...</td>\n      <td>2.0</td>\n      <td>2024-03-30</td>\n      <td>Склад №1</td>\n      <td>Валютный №2-Т</td>\n      <td>1</td>\n      <td>17</td>\n      <td>0</td>\n      <td>None</td>\n      <td>1244973.94</td>\n      <td></td>\n    </tr>\n    <tr>\n      <th>2786</th>\n      <td>96171</td>\n      <td>Тресиба ФлексТач 100 ЕД/мл 3 мл №5 р-р д/и.</td>\n      <td>шт/дона</td>\n      <td>48.0</td>\n      <td>NaN</td>\n      <td>Novo Nordisc</td>\n      <td>1009449.37</td>\n      <td>0.0</td>\n      <td>1000.0</td>\n      <td>0.0</td>\n      <td>...</td>\n      <td>85.0</td>\n      <td>2024-03-28</td>\n      <td>Склад №1</td>\n      <td>Валютный-М-Б</td>\n      <td>1</td>\n      <td>19</td>\n      <td>0</td>\n      <td>None</td>\n      <td>1157241.18</td>\n      <td></td>\n    </tr>\n    <tr>\n      <th>2868</th>\n      <td>126624</td>\n      <td>Амицил 1,0 №40 лиофил д/приг.р-ра д/и.</td>\n      <td>уп</td>\n      <td>6.0</td>\n      <td>NaN</td>\n      <td>Киевмедпреп.</td>\n      <td>970950.98</td>\n      <td>0.0</td>\n      <td>1000.0</td>\n      <td>0.0</td>\n      <td>...</td>\n      <td>0.0</td>\n      <td>2023-12-13</td>\n      <td>Склад №1</td>\n      <td>Валютный-П-Б</td>\n      <td>1</td>\n      <td>20</td>\n      <td>0</td>\n      <td>None</td>\n      <td>NaN</td>\n      <td></td>\n    </tr>\n    <tr>\n      <th>2919</th>\n      <td>82515</td>\n      <td>КомбиГилан 2,25мл р-р д/инъекций в преднап.шприце</td>\n      <td>штук</td>\n      <td>45.0</td>\n      <td>NaN</td>\n      <td>Ромфарм Компании - Румыния</td>\n      <td>760015.12</td>\n      <td>0.0</td>\n      <td>1000.0</td>\n      <td>0.0</td>\n      <td>...</td>\n      <td>240.0</td>\n      <td>2024-02-14</td>\n      <td>Склад №1</td>\n      <td>Валютный-П-Б</td>\n      <td>1</td>\n      <td>20</td>\n      <td>0</td>\n      <td>None</td>\n      <td>NaN</td>\n      <td></td>\n    </tr>\n    <tr>\n      <th>...</th>\n      <td>...</td>\n      <td>...</td>\n      <td>...</td>\n      <td>...</td>\n      <td>...</td>\n      <td>...</td>\n      <td>...</td>\n      <td>...</td>\n      <td>...</td>\n      <td>...</td>\n      <td>...</td>\n      <td>...</td>\n      <td>...</td>\n      <td>...</td>\n      <td>...</td>\n      <td>...</td>\n      <td>...</td>\n      <td>...</td>\n      <td>...</td>\n      <td>...</td>\n      <td>...</td>\n    </tr>\n    <tr>\n      <th>4001</th>\n      <td>90788</td>\n      <td>Гематоген шоколадный 40г</td>\n      <td>шт</td>\n      <td>125.0</td>\n      <td>NaN</td>\n      <td>Экзон ОАО</td>\n      <td>2683.48</td>\n      <td>0.0</td>\n      <td>1000.0</td>\n      <td>0.0</td>\n      <td>...</td>\n      <td>2736.0</td>\n      <td>2023-12-27</td>\n      <td>Склад №1</td>\n      <td>НБО</td>\n      <td>1</td>\n      <td>10</td>\n      <td>0</td>\n      <td>None</td>\n      <td>NaN</td>\n      <td></td>\n    </tr>\n    <tr>\n      <th>4000</th>\n      <td>69571</td>\n      <td>Гематоген с черносливом 40г</td>\n      <td>штук</td>\n      <td>125.0</td>\n      <td>NaN</td>\n      <td>Экзон ОАО</td>\n      <td>2783.87</td>\n      <td>0.0</td>\n      <td>1000.0</td>\n      <td>0.0</td>\n      <td>...</td>\n      <td>3073.0</td>\n      <td>2023-12-27</td>\n      <td>Склад №1</td>\n      <td>НБО</td>\n      <td>1</td>\n      <td>10</td>\n      <td>0</td>\n      <td>None</td>\n      <td>NaN</td>\n      <td></td>\n    </tr>\n    <tr>\n      <th>3999</th>\n      <td>87941</td>\n      <td>Гематоген с кокосом 40г</td>\n      <td>шт/дона</td>\n      <td>125.0</td>\n      <td>NaN</td>\n      <td>Экзон ОАО</td>\n      <td>2783.87</td>\n      <td>0.0</td>\n      <td>1000.0</td>\n      <td>0.0</td>\n      <td>...</td>\n      <td>1331.0</td>\n      <td>2023-12-27</td>\n      <td>Склад №1</td>\n      <td>НБО</td>\n      <td>1</td>\n      <td>10</td>\n      <td>0</td>\n      <td>None</td>\n      <td>NaN</td>\n      <td></td>\n    </tr>\n    <tr>\n      <th>3998</th>\n      <td>87626</td>\n      <td>Гематоген с арахисом 40г</td>\n      <td>штук</td>\n      <td>125.0</td>\n      <td>NaN</td>\n      <td>Экзон ОАО</td>\n      <td>2783.87</td>\n      <td>0.0</td>\n      <td>1000.0</td>\n      <td>0.0</td>\n      <td>...</td>\n      <td>1887.0</td>\n      <td>2023-12-27</td>\n      <td>Склад №1</td>\n      <td>НБО</td>\n      <td>1</td>\n      <td>10</td>\n      <td>0</td>\n      <td>None</td>\n      <td>NaN</td>\n      <td></td>\n    </tr>\n    <tr>\n      <th>4247</th>\n      <td>82654</td>\n      <td>Масло растаропши 500г №90 капс.</td>\n      <td>штук</td>\n      <td>50.0</td>\n      <td>NaN</td>\n      <td>Shanaz Узбекистан</td>\n      <td>34560.00</td>\n      <td>0.0</td>\n      <td>1000.0</td>\n      <td>0.0</td>\n      <td>...</td>\n      <td>27.0</td>\n      <td>2023-09-28</td>\n      <td>Склад №1</td>\n      <td>НБО</td>\n      <td>1</td>\n      <td>10</td>\n      <td>0</td>\n      <td>None</td>\n      <td>NaN</td>\n      <td></td>\n    </tr>\n  </tbody>\n</table>\n<p>8495 rows × 26 columns</p>\n</div>"
     },
     "execution_count": 28,
     "metadata": {},
     "output_type": "execute_result"
    }
   ],
   "source": [
    "df.sort_values(by='BasePrice', ascending=False)"
   ],
   "metadata": {
    "collapsed": false,
    "ExecuteTime": {
     "end_time": "2024-04-08T11:19:20.874307Z",
     "start_time": "2024-04-08T11:19:20.852098Z"
    }
   },
   "id": "f9d64019ff877469",
   "execution_count": 28
  },
  {
   "cell_type": "code",
   "outputs": [
    {
     "data": {
      "text/plain": "               Субсклад     Склад  \\\n4653  Сумовой Импортный  Склад №1   \n918       Валютный №2-Т  Склад №1   \n2431       Валютный-М-Б  Склад №1   \n2505       Валютный-П-Б  Склад №1   \n2547       Валютный-П-Б  Склад №1   \n...                 ...       ...   \n4257                НБО  Склад №1   \n4258                НБО  Склад №1   \n4259                НБО  Склад №1   \n4260                НБО  Склад №1   \n3205                НБО  Склад №1   \n\n                              Наименование медикаментов   BasePrice  \\\n4653                        Коляска-кресло  инвалидная   1056199.01   \n918           Ксаврон 1,5мг/мл 20мл №10 р-р д/инъекций    907002.94   \n2431        Тресиба ФлексТач 100 ЕД/мл 3 мл №5 р-р д/и.   877782.06   \n2505             Амицил 1,0 №40 лиофил д/приг.р-ра д/и.   844305.20   \n2547  КомбиГилан 2,25мл р-р д/инъекций в преднап.шприце   791682.41   \n...                                                 ...         ...   \n4257                         Шапочки шарлотка №50 белые        0.00   \n4258                                    Шиповник 2г №20        0.00   \n4259       Шиповник раств. HALSIKA в метал.пакетах 75 г        0.00   \n4260       Шиповник раств. HALSIKA в метал.пакетах 75 г        0.00   \n3205                      Соль д/ванн д/похудения 500 г        0.00   \n\n      Всего ост.  Ост.  Прих. цена                  Межд. Название  \\\n4653           2     2           0                             NaN   \n918            2     2           0                       Edaravone   \n2431          85    85           0                Insulin degludec   \n2505           0     0           0                        Amikacin   \n2547         343   240           0  Sodium hyaluronate ,chondroiti   \n...          ...   ...         ...                             ...   \n4257         350   350           0                             NaN   \n4258         449   449           0                             NaN   \n4259         173   100           0                   Rosae fructus   \n4260         173    22           0                   Rosae fructus   \n3205         117   117           0                             NaN   \n\n             Ед.        Цена        Нац  Нац. поср.  Гр. уп. Срок годн.  \\\n4653  шт          1214628.87  15.000001      -100.0        1 2069-12-01   \n918   штук        1043053.39  15.000001      -100.0       20 2025-11-01   \n2431  шт/дона     1009449.37  15.000000      -100.0       48 2025-11-01   \n2505  уп           970950.98  15.000000      -100.0        6 2025-03-01   \n2547  штук         760015.12  -3.999999      -100.0       45 2025-04-01   \n...          ...         ...        ...         ...      ...        ...   \n4257  уп            26400.00   0.000000         0.0       50 2025-10-01   \n4258  штук          10400.00   0.000000         0.0      100 2027-03-01   \n4259  штук          14430.00   0.000000         0.0       50 2026-03-01   \n4260  штук          14430.00   0.000000         0.0       50 2026-02-01   \n3205  штук          10530.00   0.000000         0.0       20 2026-02-01   \n\n                   Производитель   Реф. Цена  \n4653  Hengshui Zhonqhao Medical          NaN  \n918                    Юрия-Фарм  1244973.94  \n2431                Novo Nordisc  1157241.18  \n2505                Киевмедпреп.         NaN  \n2547  Ромфарм Компании - Румыния         NaN  \n...                          ...         ...  \n4257           United-Pojects FJ         NaN  \n4258             Сукок Гилоси ФХ         NaN  \n4259                     Halsika         NaN  \n4260                     Halsika         NaN  \n3205                 CLIFF Group         NaN  \n\n[7172 rows x 16 columns]",
      "text/html": "<div>\n<style scoped>\n    .dataframe tbody tr th:only-of-type {\n        vertical-align: middle;\n    }\n\n    .dataframe tbody tr th {\n        vertical-align: top;\n    }\n\n    .dataframe thead th {\n        text-align: right;\n    }\n</style>\n<table border=\"1\" class=\"dataframe\">\n  <thead>\n    <tr style=\"text-align: right;\">\n      <th></th>\n      <th>Субсклад</th>\n      <th>Склад</th>\n      <th>Наименование медикаментов</th>\n      <th>BasePrice</th>\n      <th>Всего ост.</th>\n      <th>Ост.</th>\n      <th>Прих. цена</th>\n      <th>Межд. Название</th>\n      <th>Ед.</th>\n      <th>Цена</th>\n      <th>Нац</th>\n      <th>Нац. поср.</th>\n      <th>Гр. уп.</th>\n      <th>Срок годн.</th>\n      <th>Производитель</th>\n      <th>Реф. Цена</th>\n    </tr>\n  </thead>\n  <tbody>\n    <tr>\n      <th>4653</th>\n      <td>Сумовой Импортный</td>\n      <td>Склад №1</td>\n      <td>Коляска-кресло  инвалидная</td>\n      <td>1056199.01</td>\n      <td>2</td>\n      <td>2</td>\n      <td>0</td>\n      <td>NaN</td>\n      <td>шт</td>\n      <td>1214628.87</td>\n      <td>15.000001</td>\n      <td>-100.0</td>\n      <td>1</td>\n      <td>2069-12-01</td>\n      <td>Hengshui Zhonqhao Medical</td>\n      <td>NaN</td>\n    </tr>\n    <tr>\n      <th>918</th>\n      <td>Валютный №2-Т</td>\n      <td>Склад №1</td>\n      <td>Ксаврон 1,5мг/мл 20мл №10 р-р д/инъекций</td>\n      <td>907002.94</td>\n      <td>2</td>\n      <td>2</td>\n      <td>0</td>\n      <td>Edaravone</td>\n      <td>штук</td>\n      <td>1043053.39</td>\n      <td>15.000001</td>\n      <td>-100.0</td>\n      <td>20</td>\n      <td>2025-11-01</td>\n      <td>Юрия-Фарм</td>\n      <td>1244973.94</td>\n    </tr>\n    <tr>\n      <th>2431</th>\n      <td>Валютный-М-Б</td>\n      <td>Склад №1</td>\n      <td>Тресиба ФлексТач 100 ЕД/мл 3 мл №5 р-р д/и.</td>\n      <td>877782.06</td>\n      <td>85</td>\n      <td>85</td>\n      <td>0</td>\n      <td>Insulin degludec</td>\n      <td>шт/дона</td>\n      <td>1009449.37</td>\n      <td>15.000000</td>\n      <td>-100.0</td>\n      <td>48</td>\n      <td>2025-11-01</td>\n      <td>Novo Nordisc</td>\n      <td>1157241.18</td>\n    </tr>\n    <tr>\n      <th>2505</th>\n      <td>Валютный-П-Б</td>\n      <td>Склад №1</td>\n      <td>Амицил 1,0 №40 лиофил д/приг.р-ра д/и.</td>\n      <td>844305.20</td>\n      <td>0</td>\n      <td>0</td>\n      <td>0</td>\n      <td>Amikacin</td>\n      <td>уп</td>\n      <td>970950.98</td>\n      <td>15.000000</td>\n      <td>-100.0</td>\n      <td>6</td>\n      <td>2025-03-01</td>\n      <td>Киевмедпреп.</td>\n      <td>NaN</td>\n    </tr>\n    <tr>\n      <th>2547</th>\n      <td>Валютный-П-Б</td>\n      <td>Склад №1</td>\n      <td>КомбиГилан 2,25мл р-р д/инъекций в преднап.шприце</td>\n      <td>791682.41</td>\n      <td>343</td>\n      <td>240</td>\n      <td>0</td>\n      <td>Sodium hyaluronate ,chondroiti</td>\n      <td>штук</td>\n      <td>760015.12</td>\n      <td>-3.999999</td>\n      <td>-100.0</td>\n      <td>45</td>\n      <td>2025-04-01</td>\n      <td>Ромфарм Компании - Румыния</td>\n      <td>NaN</td>\n    </tr>\n    <tr>\n      <th>...</th>\n      <td>...</td>\n      <td>...</td>\n      <td>...</td>\n      <td>...</td>\n      <td>...</td>\n      <td>...</td>\n      <td>...</td>\n      <td>...</td>\n      <td>...</td>\n      <td>...</td>\n      <td>...</td>\n      <td>...</td>\n      <td>...</td>\n      <td>...</td>\n      <td>...</td>\n      <td>...</td>\n    </tr>\n    <tr>\n      <th>4257</th>\n      <td>НБО</td>\n      <td>Склад №1</td>\n      <td>Шапочки шарлотка №50 белые</td>\n      <td>0.00</td>\n      <td>350</td>\n      <td>350</td>\n      <td>0</td>\n      <td>NaN</td>\n      <td>уп</td>\n      <td>26400.00</td>\n      <td>0.000000</td>\n      <td>0.0</td>\n      <td>50</td>\n      <td>2025-10-01</td>\n      <td>United-Pojects FJ</td>\n      <td>NaN</td>\n    </tr>\n    <tr>\n      <th>4258</th>\n      <td>НБО</td>\n      <td>Склад №1</td>\n      <td>Шиповник 2г №20</td>\n      <td>0.00</td>\n      <td>449</td>\n      <td>449</td>\n      <td>0</td>\n      <td>NaN</td>\n      <td>штук</td>\n      <td>10400.00</td>\n      <td>0.000000</td>\n      <td>0.0</td>\n      <td>100</td>\n      <td>2027-03-01</td>\n      <td>Сукок Гилоси ФХ</td>\n      <td>NaN</td>\n    </tr>\n    <tr>\n      <th>4259</th>\n      <td>НБО</td>\n      <td>Склад №1</td>\n      <td>Шиповник раств. HALSIKA в метал.пакетах 75 г</td>\n      <td>0.00</td>\n      <td>173</td>\n      <td>100</td>\n      <td>0</td>\n      <td>Rosae fructus</td>\n      <td>штук</td>\n      <td>14430.00</td>\n      <td>0.000000</td>\n      <td>0.0</td>\n      <td>50</td>\n      <td>2026-03-01</td>\n      <td>Halsika</td>\n      <td>NaN</td>\n    </tr>\n    <tr>\n      <th>4260</th>\n      <td>НБО</td>\n      <td>Склад №1</td>\n      <td>Шиповник раств. HALSIKA в метал.пакетах 75 г</td>\n      <td>0.00</td>\n      <td>173</td>\n      <td>22</td>\n      <td>0</td>\n      <td>Rosae fructus</td>\n      <td>штук</td>\n      <td>14430.00</td>\n      <td>0.000000</td>\n      <td>0.0</td>\n      <td>50</td>\n      <td>2026-02-01</td>\n      <td>Halsika</td>\n      <td>NaN</td>\n    </tr>\n    <tr>\n      <th>3205</th>\n      <td>НБО</td>\n      <td>Склад №1</td>\n      <td>Соль д/ванн д/похудения 500 г</td>\n      <td>0.00</td>\n      <td>117</td>\n      <td>117</td>\n      <td>0</td>\n      <td>NaN</td>\n      <td>штук</td>\n      <td>10530.00</td>\n      <td>0.000000</td>\n      <td>0.0</td>\n      <td>20</td>\n      <td>2026-02-01</td>\n      <td>CLIFF Group</td>\n      <td>NaN</td>\n    </tr>\n  </tbody>\n</table>\n<p>7172 rows × 16 columns</p>\n</div>"
     },
     "execution_count": 29,
     "metadata": {},
     "output_type": "execute_result"
    }
   ],
   "source": [
    "x.sort_values(by='BasePrice', ascending=False)"
   ],
   "metadata": {
    "collapsed": false,
    "ExecuteTime": {
     "end_time": "2024-04-08T11:19:21.752978Z",
     "start_time": "2024-04-08T11:19:21.736511Z"
    }
   },
   "id": "abc4806f3b9f3c44",
   "execution_count": 29
  },
  {
   "cell_type": "code",
   "outputs": [],
   "source": [],
   "metadata": {
    "collapsed": false
   },
   "id": "5685859fe0103b4a"
  }
 ],
 "metadata": {
  "kernelspec": {
   "display_name": "Python 3",
   "language": "python",
   "name": "python3"
  },
  "language_info": {
   "codemirror_mode": {
    "name": "ipython",
    "version": 2
   },
   "file_extension": ".py",
   "mimetype": "text/x-python",
   "name": "python",
   "nbconvert_exporter": "python",
   "pygments_lexer": "ipython2",
   "version": "2.7.6"
  }
 },
 "nbformat": 4,
 "nbformat_minor": 5
}
