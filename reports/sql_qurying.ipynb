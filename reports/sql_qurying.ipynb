{
 "cells": [
  {
   "cell_type": "code",
   "execution_count": 3,
   "id": "initial_id",
   "metadata": {
    "collapsed": true,
    "ExecuteTime": {
     "end_time": "2024-03-04T16:08:52.810246Z",
     "start_time": "2024-03-04T16:08:49.378142Z"
    }
   },
   "outputs": [],
   "source": [
    "import os\n",
    "from datetime import date  # For working with dates\n",
    "\n",
    "import pandas as pd  # For working with DataFrames\n",
    "from dotenv import load_dotenv\n",
    "from sqlalchemy import create_engine  # For crea\n",
    "\n",
    "##################### LOADING IMPORTANT DATA ######################\n",
    "# Load environment variables from the .env file\n",
    "env_file_path = r'D:/Projects/.env'\n",
    "load_dotenv(env_file_path)\n",
    "# Giving output file name\n",
    "output_file_path = 'MONTHLY.xlsx'\n",
    "# Load data from different sheets in 'promotion.xlsx' into DataFrames\n",
    "promotion_path = r'D:\\Projects\\promotion.xlsx'\n",
    "region_df = pd.read_excel(promotion_path, sheet_name='Region')\n",
    "aksiya_df = pd.read_excel(promotion_path, sheet_name='Aksiya')\n",
    "paket_df = pd.read_excel(promotion_path, sheet_name='Paket')\n",
    "types_df = pd.read_excel(promotion_path, sheet_name='TYPES')\n",
    "##################### ACCESS ENV VARIABLES ######################\n",
    "db_server = os.getenv(\"DB_SERVER\")\n",
    "db_database = os.getenv(\"DB_DATABASE_SERGELI\")\n",
    "db_user = os.getenv(\"DB_USER\")\n",
    "db_password = os.getenv(\"DB_PASSWORD\")\n",
    "db_port = os.getenv(\"DB_PORT\")\n",
    "db_driver_name = os.getenv(\"DB_DRIVER_NAME\")\n",
    "\n",
    "##################### PROCEDURE NAME ######################\n",
    "\n",
    "start_date = date(2024, 3, 1).strftime('%Y%m%d')\n",
    "end_date = date(2024, 3, 31).strftime('%Y%m%d')\n",
    "\n",
    "##################### CONNECTION STRING AND SQL QUERY ######################\n",
    "# Construct the connection string\n",
    "conn_str = f\"mssql+pyodbc://{db_user}:{db_password}@{db_server}:{db_port}/{db_database}?driver={db_driver_name}\"\n",
    "engine = create_engine(conn_str)\n",
    "\n",
    "\n",
    "# SQL query with placeholders for parameters\n",
    "sql_query = \"\"\"\n",
    "DECLARE @DateBegin DATE = CAST(? AS DATE);\n",
    "DECLARE @DateEnd DATE = CAST(? AS DATE);\n",
    "DECLARE @GoodName NVARCHAR(255) = ?;\n",
    "DECLARE @ClientManager NVARCHAR(255) = ?;\n",
    "\n",
    "SELECT D.Name                    AS DocKind,\n",
    "       i.Number                  AS InvoiceNumber,\n",
    "       G.Name                    AS GoodName,\n",
    "       M.Name                    AS Producer,\n",
    "       C.Inn                     as Inn,\n",
    "       C.FindName                AS ClientName,\n",
    "       PIM.Name                  AS InvoiceManager,\n",
    "       PCM.Name                  AS ClientManager,\n",
    "       I.PaymentTerm,\n",
    "       il.pBasePrice             as BasePrice,\n",
    "       il.Price                  as SellingPrice,\n",
    "       il.Kolich                 AS Quantity,\n",
    "       I.DataEntered,\n",
    "       il.pBasePrice * il.Kolich AS BaseAmount,\n",
    "       il.pSumma                 AS TotalAmount\n",
    "FROM INVOICELN il\n",
    "         JOIN INVOICE i ON il.InvoiceId = i.InvoiceId\n",
    "         JOIN PERSONAL PIM ON i.PersonalId = PIM.PersonalId\n",
    "         JOIN DOCKIND D ON i.DocKindId = D.DocKindId\n",
    "         JOIN CLIENT C ON i.ClientId = C.ClientId\n",
    "         JOIN INCOMELN incl ON il.IncomeLnId = incl.IncomeLnId\n",
    "         JOIN Good G ON incl.GoodId = G.GoodId\n",
    "         JOIN Producer M ON M.ProducerId = G.ProducerId\n",
    "         JOIN PERSONAL PCM ON C.PersonalId = PCM.PersonalId\n",
    "WHERE i.DataEntered >= @DateBegin\n",
    "  AND i.DataEntered <= @DateEnd\n",
    "  AND (D.name = 'Финансовая скидка' OR D.name = 'Оптовая реализация')\n",
    "  AND (ISNULL(@GoodName, '') = '' OR G.Name = @GoodName)\n",
    "  AND (ISNULL(@ClientManager, '') = '' OR PCM.Name = @ClientManager)\n",
    "\n",
    "ORDER BY i.DataEntered DESC\n",
    "\"\"\"\n",
    "\n",
    "# Execute the query using parameters\n",
    "df = pd.read_sql_query(sql_query, engine, params=(start_date, end_date,'','(Джиз) Кушбаков Зокир'))\n"
   ]
  },
  {
   "cell_type": "code",
   "outputs": [
    {
     "data": {
      "text/plain": "               DocKind InvoiceNumber  \\\n0   Оптовая реализация         40828   \n1   Оптовая реализация         40826   \n2   Оптовая реализация         40824   \n3   Оптовая реализация         40821   \n4   Оптовая реализация         40076   \n5   Оптовая реализация         40076   \n6   Оптовая реализация         40076   \n7   Оптовая реализация         40076   \n8   Оптовая реализация         40076   \n9   Оптовая реализация         40076   \n10  Оптовая реализация         40076   \n11  Оптовая реализация         40076   \n12  Оптовая реализация         40076   \n13  Оптовая реализация         40076   \n14  Оптовая реализация         40076   \n15  Оптовая реализация         40076   \n16  Оптовая реализация         40076   \n17  Оптовая реализация         39939   \n18  Оптовая реализация         39934   \n19  Оптовая реализация         39896   \n20  Оптовая реализация         39896   \n21  Оптовая реализация         39896   \n22  Оптовая реализация         39896   \n23  Оптовая реализация         39896   \n24  Оптовая реализация         39896   \n\n                                             GoodName  \\\n0                               Нимид 100мг №30(саше)   \n1                                   Зиомицин 500мг №3   \n2                                        Аскоцин №100   \n3                                     L-цет 5 мг №100   \n4                                 Метформин 850мг №30   \n5                                   Лизинокор 5мг №20   \n6   Терафлю при гриппе и простуды №10 Лимон пор. д...   \n7                        Преднизолон SD 5мг №50 табл.   \n8                                Верошпирон 25 мг №20   \n9                                  Лизинокор 10мг №20   \n10                                  Эналаприл 5мг №20   \n11                                    Индап 2,5мг №30   \n12                                Цинк 25мг №60 табл.   \n13  Кальций-Д3 Никомед 500мг+200МЕ №100 табл.апельсин   \n14                                 Стрептоцид 0,3 №10   \n15                            Линкас 90мл  без сахара   \n16   Салфетки мед.хлопчат.стерил. двухс.16смх14см №10   \n17                     Ципрофлоксацин-Ника 500мг №100   \n18             Азитромицин-NIKAPHARM 500 мг №3 (кап.)   \n19        Натрия тиосульфат 30% р-р 10мл №5 р-р д/и.    \n20          Катетер д/вливания стер.\"Игла бабочка\"22G   \n21                   Лейкопластрь А Plast 19х72 №500    \n22                   Катетер внутривенный 20G(розов.)   \n23  Ампициллин 500мг №50 пор. д/приг.р-ра д/в/м введе   \n24  Натрия тиосульфат 300мг/мл 10мл №10 р-р д/инъе...   \n\n                              Producer        Inn             ClientName  \\\n0                     Kusum Healthcare  307012984        Ёрбекфарм-ш мчж   \n1                     Kusum Healthcare  307012984        Ёрбекфарм-ш мчж   \n2                     Kusum Healthcare  307012984        Ёрбекфарм-ш мчж   \n3                     Kusum Healthcare  307012984        Ёрбекфарм-ш мчж   \n4                                Гуфик  307685543       АНТИДАРД ФАРМ дж   \n5        GM Pharmaceuticals Ltd,Грузия  307685543       АНТИДАРД ФАРМ дж   \n6                      Делфарм Орлеанс  307685543       АНТИДАРД ФАРМ дж   \n7              Sharq Darmon Узбекистан  307685543       АНТИДАРД ФАРМ дж   \n8                       Gedeon Richter  307685543       АНТИДАРД ФАРМ дж   \n9        GM Pharmaceuticals Ltd,Грузия  307685543       АНТИДАРД ФАРМ дж   \n10            Борисовский завод мед.п.  307685543       АНТИДАРД ФАРМ дж   \n11                             Pro med  307685543       АНТИДАРД ФАРМ дж   \n12                     ООО\" INVITRIS \"  307685543       АНТИДАРД ФАРМ дж   \n13  Asker Contract Manufacturing A.S.   307685543       АНТИДАРД ФАРМ дж   \n14                   Herbal Pharma OOO  307685543       АНТИДАРД ФАРМ дж   \n15                    Herbion/Пакистан  307685543       АНТИДАРД ФАРМ дж   \n16                      Сарбонтекс ООО  307685543       АНТИДАРД ФАРМ дж   \n17                         Nika-Pharm   307685543       АНТИДАРД ФАРМ дж   \n18                         Nika-Pharm   307685543       АНТИДАРД ФАРМ дж   \n19                       ЧНПП \"Радикс\"  201588378  КАМОЛА  МЧЖ (ДЖИЗЗАК)   \n20                         HEALTH LINE  201588378  КАМОЛА  МЧЖ (ДЖИЗЗАК)   \n21                   ООО\"AFFLATUS LAB\"  201588378  КАМОЛА  МЧЖ (ДЖИЗЗАК)   \n22                                 KDM  201588378  КАМОЛА  МЧЖ (ДЖИЗЗАК)   \n23                     Dentafill Plyus  201588378  КАМОЛА  МЧЖ (ДЖИЗЗАК)   \n24                         Дальхимфарм  201588378  КАМОЛА  МЧЖ (ДЖИЗЗАК)   \n\n           InvoiceManager          ClientManager  PaymentTerm  BasePrice  \\\n0   (Джиз) Кушбаков Зокир  (Джиз) Кушбаков Зокир           25   65255.31   \n1   (Джиз) Кушбаков Зокир  (Джиз) Кушбаков Зокир           25   26521.07   \n2   (Джиз) Кушбаков Зокир  (Джиз) Кушбаков Зокир           25   78261.76   \n3   (Джиз) Кушбаков Зокир  (Джиз) Кушбаков Зокир           25  156329.99   \n4   (Джиз) Кушбаков Зокир  (Джиз) Кушбаков Зокир           25   25000.00   \n5   (Джиз) Кушбаков Зокир  (Джиз) Кушбаков Зокир           25   18924.63   \n6   (Джиз) Кушбаков Зокир  (Джиз) Кушбаков Зокир           25   60384.28   \n7   (Джиз) Кушбаков Зокир  (Джиз) Кушбаков Зокир           25   13000.00   \n8   (Джиз) Кушбаков Зокир  (Джиз) Кушбаков Зокир           25   20932.51   \n9   (Джиз) Кушбаков Зокир  (Джиз) Кушбаков Зокир           25   28904.03   \n10  (Джиз) Кушбаков Зокир  (Джиз) Кушбаков Зокир           25    2052.63   \n11  (Джиз) Кушбаков Зокир  (Джиз) Кушбаков Зокир           25   27640.08   \n12  (Джиз) Кушбаков Зокир  (Джиз) Кушбаков Зокир           25   21850.00   \n13  (Джиз) Кушбаков Зокир  (Джиз) Кушбаков Зокир           25   89875.99   \n14  (Джиз) Кушбаков Зокир  (Джиз) Кушбаков Зокир           25    3667.52   \n15  (Джиз) Кушбаков Зокир  (Джиз) Кушбаков Зокир           25   21387.87   \n16  (Джиз) Кушбаков Зокир  (Джиз) Кушбаков Зокир           25    2353.00   \n17  (Джиз) Кушбаков Зокир  (Джиз) Кушбаков Зокир           25   52400.00   \n18  (Джиз) Кушбаков Зокир  (Джиз) Кушбаков Зокир           25   14500.00   \n19  (Джиз) Кушбаков Зокир  (Джиз) Кушбаков Зокир           25    5141.94   \n20  (Джиз) Кушбаков Зокир  (Джиз) Кушбаков Зокир           25     824.00   \n21  (Джиз) Кушбаков Зокир  (Джиз) Кушбаков Зокир           25   72000.00   \n22  (Джиз) Кушбаков Зокир  (Джиз) Кушбаков Зокир           25    2799.98   \n23  (Джиз) Кушбаков Зокир  (Джиз) Кушбаков Зокир           25  199333.33   \n24  (Джиз) Кушбаков Зокир  (Джиз) Кушбаков Зокир           25   11490.76   \n\n    SellingPrice  Quantity         DataEntered  BaseAmount  TotalAmount  \n0       72461.83       9.0 2024-03-04 19:06:00   587297.79    652156.47  \n1       29979.31      12.0 2024-03-04 19:04:00   318252.84    359751.72  \n2       89993.20       4.0 2024-03-04 19:03:00   313047.04    359972.80  \n3      175199.02      16.0 2024-03-04 19:00:00  2501279.84   2803184.32  \n4       25000.00       2.0 2024-03-04 12:32:00    50000.00     50000.00  \n5       21761.44       5.0 2024-03-04 12:32:00    94623.15    108807.20  \n6       69435.89      12.0 2024-03-04 12:32:00   724611.36    833230.68  \n7       14948.70       4.0 2024-03-04 12:32:00    52000.00     59794.80  \n8       23982.93       2.0 2024-03-04 12:32:00    41865.02     47965.86  \n9       33236.75       2.0 2024-03-04 12:32:00    57808.06     66473.50  \n10       2216.85      50.0 2024-03-04 12:32:00   102631.50    110842.50  \n11      31783.33       3.0 2024-03-04 12:32:00    82920.24     95349.99  \n12      28405.00       1.0 2024-03-04 12:32:00    21850.00     28405.00  \n13      94369.79       4.0 2024-03-04 12:32:00   359503.96    377479.16  \n14       3795.00      10.0 2024-03-04 12:32:00    36675.20     37950.00  \n15      24593.92       2.0 2024-03-04 12:32:00    42775.74     49187.84  \n16       2494.18      20.0 2024-03-04 12:32:00    47060.00     49883.60  \n17      60254.76      20.0 2024-03-04 10:46:00  1048000.00   1205095.20  \n18      16673.55      12.0 2024-03-04 10:44:00   174000.00    200082.60  \n19       5912.72      24.0 2024-03-04 10:19:00   123406.56    141905.28  \n20        725.12      50.0 2024-03-04 10:19:00    41200.00     36256.00  \n21      82792.80      60.0 2024-03-04 10:19:00  4320000.00   4967568.00  \n22       3219.70     300.0 2024-03-04 10:19:00   839994.00    965910.00  \n23     219266.67       4.0 2024-03-04 10:19:00   797333.32    877066.68  \n24      13213.23      70.0 2024-03-04 10:19:00   804353.20    924926.10  ",
      "text/html": "<div>\n<style scoped>\n    .dataframe tbody tr th:only-of-type {\n        vertical-align: middle;\n    }\n\n    .dataframe tbody tr th {\n        vertical-align: top;\n    }\n\n    .dataframe thead th {\n        text-align: right;\n    }\n</style>\n<table border=\"1\" class=\"dataframe\">\n  <thead>\n    <tr style=\"text-align: right;\">\n      <th></th>\n      <th>DocKind</th>\n      <th>InvoiceNumber</th>\n      <th>GoodName</th>\n      <th>Producer</th>\n      <th>Inn</th>\n      <th>ClientName</th>\n      <th>InvoiceManager</th>\n      <th>ClientManager</th>\n      <th>PaymentTerm</th>\n      <th>BasePrice</th>\n      <th>SellingPrice</th>\n      <th>Quantity</th>\n      <th>DataEntered</th>\n      <th>BaseAmount</th>\n      <th>TotalAmount</th>\n    </tr>\n  </thead>\n  <tbody>\n    <tr>\n      <th>0</th>\n      <td>Оптовая реализация</td>\n      <td>40828</td>\n      <td>Нимид 100мг №30(саше)</td>\n      <td>Kusum Healthcare</td>\n      <td>307012984</td>\n      <td>Ёрбекфарм-ш мчж</td>\n      <td>(Джиз) Кушбаков Зокир</td>\n      <td>(Джиз) Кушбаков Зокир</td>\n      <td>25</td>\n      <td>65255.31</td>\n      <td>72461.83</td>\n      <td>9.0</td>\n      <td>2024-03-04 19:06:00</td>\n      <td>587297.79</td>\n      <td>652156.47</td>\n    </tr>\n    <tr>\n      <th>1</th>\n      <td>Оптовая реализация</td>\n      <td>40826</td>\n      <td>Зиомицин 500мг №3</td>\n      <td>Kusum Healthcare</td>\n      <td>307012984</td>\n      <td>Ёрбекфарм-ш мчж</td>\n      <td>(Джиз) Кушбаков Зокир</td>\n      <td>(Джиз) Кушбаков Зокир</td>\n      <td>25</td>\n      <td>26521.07</td>\n      <td>29979.31</td>\n      <td>12.0</td>\n      <td>2024-03-04 19:04:00</td>\n      <td>318252.84</td>\n      <td>359751.72</td>\n    </tr>\n    <tr>\n      <th>2</th>\n      <td>Оптовая реализация</td>\n      <td>40824</td>\n      <td>Аскоцин №100</td>\n      <td>Kusum Healthcare</td>\n      <td>307012984</td>\n      <td>Ёрбекфарм-ш мчж</td>\n      <td>(Джиз) Кушбаков Зокир</td>\n      <td>(Джиз) Кушбаков Зокир</td>\n      <td>25</td>\n      <td>78261.76</td>\n      <td>89993.20</td>\n      <td>4.0</td>\n      <td>2024-03-04 19:03:00</td>\n      <td>313047.04</td>\n      <td>359972.80</td>\n    </tr>\n    <tr>\n      <th>3</th>\n      <td>Оптовая реализация</td>\n      <td>40821</td>\n      <td>L-цет 5 мг №100</td>\n      <td>Kusum Healthcare</td>\n      <td>307012984</td>\n      <td>Ёрбекфарм-ш мчж</td>\n      <td>(Джиз) Кушбаков Зокир</td>\n      <td>(Джиз) Кушбаков Зокир</td>\n      <td>25</td>\n      <td>156329.99</td>\n      <td>175199.02</td>\n      <td>16.0</td>\n      <td>2024-03-04 19:00:00</td>\n      <td>2501279.84</td>\n      <td>2803184.32</td>\n    </tr>\n    <tr>\n      <th>4</th>\n      <td>Оптовая реализация</td>\n      <td>40076</td>\n      <td>Метформин 850мг №30</td>\n      <td>Гуфик</td>\n      <td>307685543</td>\n      <td>АНТИДАРД ФАРМ дж</td>\n      <td>(Джиз) Кушбаков Зокир</td>\n      <td>(Джиз) Кушбаков Зокир</td>\n      <td>25</td>\n      <td>25000.00</td>\n      <td>25000.00</td>\n      <td>2.0</td>\n      <td>2024-03-04 12:32:00</td>\n      <td>50000.00</td>\n      <td>50000.00</td>\n    </tr>\n    <tr>\n      <th>5</th>\n      <td>Оптовая реализация</td>\n      <td>40076</td>\n      <td>Лизинокор 5мг №20</td>\n      <td>GM Pharmaceuticals Ltd,Грузия</td>\n      <td>307685543</td>\n      <td>АНТИДАРД ФАРМ дж</td>\n      <td>(Джиз) Кушбаков Зокир</td>\n      <td>(Джиз) Кушбаков Зокир</td>\n      <td>25</td>\n      <td>18924.63</td>\n      <td>21761.44</td>\n      <td>5.0</td>\n      <td>2024-03-04 12:32:00</td>\n      <td>94623.15</td>\n      <td>108807.20</td>\n    </tr>\n    <tr>\n      <th>6</th>\n      <td>Оптовая реализация</td>\n      <td>40076</td>\n      <td>Терафлю при гриппе и простуды №10 Лимон пор. д...</td>\n      <td>Делфарм Орлеанс</td>\n      <td>307685543</td>\n      <td>АНТИДАРД ФАРМ дж</td>\n      <td>(Джиз) Кушбаков Зокир</td>\n      <td>(Джиз) Кушбаков Зокир</td>\n      <td>25</td>\n      <td>60384.28</td>\n      <td>69435.89</td>\n      <td>12.0</td>\n      <td>2024-03-04 12:32:00</td>\n      <td>724611.36</td>\n      <td>833230.68</td>\n    </tr>\n    <tr>\n      <th>7</th>\n      <td>Оптовая реализация</td>\n      <td>40076</td>\n      <td>Преднизолон SD 5мг №50 табл.</td>\n      <td>Sharq Darmon Узбекистан</td>\n      <td>307685543</td>\n      <td>АНТИДАРД ФАРМ дж</td>\n      <td>(Джиз) Кушбаков Зокир</td>\n      <td>(Джиз) Кушбаков Зокир</td>\n      <td>25</td>\n      <td>13000.00</td>\n      <td>14948.70</td>\n      <td>4.0</td>\n      <td>2024-03-04 12:32:00</td>\n      <td>52000.00</td>\n      <td>59794.80</td>\n    </tr>\n    <tr>\n      <th>8</th>\n      <td>Оптовая реализация</td>\n      <td>40076</td>\n      <td>Верошпирон 25 мг №20</td>\n      <td>Gedeon Richter</td>\n      <td>307685543</td>\n      <td>АНТИДАРД ФАРМ дж</td>\n      <td>(Джиз) Кушбаков Зокир</td>\n      <td>(Джиз) Кушбаков Зокир</td>\n      <td>25</td>\n      <td>20932.51</td>\n      <td>23982.93</td>\n      <td>2.0</td>\n      <td>2024-03-04 12:32:00</td>\n      <td>41865.02</td>\n      <td>47965.86</td>\n    </tr>\n    <tr>\n      <th>9</th>\n      <td>Оптовая реализация</td>\n      <td>40076</td>\n      <td>Лизинокор 10мг №20</td>\n      <td>GM Pharmaceuticals Ltd,Грузия</td>\n      <td>307685543</td>\n      <td>АНТИДАРД ФАРМ дж</td>\n      <td>(Джиз) Кушбаков Зокир</td>\n      <td>(Джиз) Кушбаков Зокир</td>\n      <td>25</td>\n      <td>28904.03</td>\n      <td>33236.75</td>\n      <td>2.0</td>\n      <td>2024-03-04 12:32:00</td>\n      <td>57808.06</td>\n      <td>66473.50</td>\n    </tr>\n    <tr>\n      <th>10</th>\n      <td>Оптовая реализация</td>\n      <td>40076</td>\n      <td>Эналаприл 5мг №20</td>\n      <td>Борисовский завод мед.п.</td>\n      <td>307685543</td>\n      <td>АНТИДАРД ФАРМ дж</td>\n      <td>(Джиз) Кушбаков Зокир</td>\n      <td>(Джиз) Кушбаков Зокир</td>\n      <td>25</td>\n      <td>2052.63</td>\n      <td>2216.85</td>\n      <td>50.0</td>\n      <td>2024-03-04 12:32:00</td>\n      <td>102631.50</td>\n      <td>110842.50</td>\n    </tr>\n    <tr>\n      <th>11</th>\n      <td>Оптовая реализация</td>\n      <td>40076</td>\n      <td>Индап 2,5мг №30</td>\n      <td>Pro med</td>\n      <td>307685543</td>\n      <td>АНТИДАРД ФАРМ дж</td>\n      <td>(Джиз) Кушбаков Зокир</td>\n      <td>(Джиз) Кушбаков Зокир</td>\n      <td>25</td>\n      <td>27640.08</td>\n      <td>31783.33</td>\n      <td>3.0</td>\n      <td>2024-03-04 12:32:00</td>\n      <td>82920.24</td>\n      <td>95349.99</td>\n    </tr>\n    <tr>\n      <th>12</th>\n      <td>Оптовая реализация</td>\n      <td>40076</td>\n      <td>Цинк 25мг №60 табл.</td>\n      <td>ООО\" INVITRIS \"</td>\n      <td>307685543</td>\n      <td>АНТИДАРД ФАРМ дж</td>\n      <td>(Джиз) Кушбаков Зокир</td>\n      <td>(Джиз) Кушбаков Зокир</td>\n      <td>25</td>\n      <td>21850.00</td>\n      <td>28405.00</td>\n      <td>1.0</td>\n      <td>2024-03-04 12:32:00</td>\n      <td>21850.00</td>\n      <td>28405.00</td>\n    </tr>\n    <tr>\n      <th>13</th>\n      <td>Оптовая реализация</td>\n      <td>40076</td>\n      <td>Кальций-Д3 Никомед 500мг+200МЕ №100 табл.апельсин</td>\n      <td>Asker Contract Manufacturing A.S.</td>\n      <td>307685543</td>\n      <td>АНТИДАРД ФАРМ дж</td>\n      <td>(Джиз) Кушбаков Зокир</td>\n      <td>(Джиз) Кушбаков Зокир</td>\n      <td>25</td>\n      <td>89875.99</td>\n      <td>94369.79</td>\n      <td>4.0</td>\n      <td>2024-03-04 12:32:00</td>\n      <td>359503.96</td>\n      <td>377479.16</td>\n    </tr>\n    <tr>\n      <th>14</th>\n      <td>Оптовая реализация</td>\n      <td>40076</td>\n      <td>Стрептоцид 0,3 №10</td>\n      <td>Herbal Pharma OOO</td>\n      <td>307685543</td>\n      <td>АНТИДАРД ФАРМ дж</td>\n      <td>(Джиз) Кушбаков Зокир</td>\n      <td>(Джиз) Кушбаков Зокир</td>\n      <td>25</td>\n      <td>3667.52</td>\n      <td>3795.00</td>\n      <td>10.0</td>\n      <td>2024-03-04 12:32:00</td>\n      <td>36675.20</td>\n      <td>37950.00</td>\n    </tr>\n    <tr>\n      <th>15</th>\n      <td>Оптовая реализация</td>\n      <td>40076</td>\n      <td>Линкас 90мл  без сахара</td>\n      <td>Herbion/Пакистан</td>\n      <td>307685543</td>\n      <td>АНТИДАРД ФАРМ дж</td>\n      <td>(Джиз) Кушбаков Зокир</td>\n      <td>(Джиз) Кушбаков Зокир</td>\n      <td>25</td>\n      <td>21387.87</td>\n      <td>24593.92</td>\n      <td>2.0</td>\n      <td>2024-03-04 12:32:00</td>\n      <td>42775.74</td>\n      <td>49187.84</td>\n    </tr>\n    <tr>\n      <th>16</th>\n      <td>Оптовая реализация</td>\n      <td>40076</td>\n      <td>Салфетки мед.хлопчат.стерил. двухс.16смх14см №10</td>\n      <td>Сарбонтекс ООО</td>\n      <td>307685543</td>\n      <td>АНТИДАРД ФАРМ дж</td>\n      <td>(Джиз) Кушбаков Зокир</td>\n      <td>(Джиз) Кушбаков Зокир</td>\n      <td>25</td>\n      <td>2353.00</td>\n      <td>2494.18</td>\n      <td>20.0</td>\n      <td>2024-03-04 12:32:00</td>\n      <td>47060.00</td>\n      <td>49883.60</td>\n    </tr>\n    <tr>\n      <th>17</th>\n      <td>Оптовая реализация</td>\n      <td>39939</td>\n      <td>Ципрофлоксацин-Ника 500мг №100</td>\n      <td>Nika-Pharm</td>\n      <td>307685543</td>\n      <td>АНТИДАРД ФАРМ дж</td>\n      <td>(Джиз) Кушбаков Зокир</td>\n      <td>(Джиз) Кушбаков Зокир</td>\n      <td>25</td>\n      <td>52400.00</td>\n      <td>60254.76</td>\n      <td>20.0</td>\n      <td>2024-03-04 10:46:00</td>\n      <td>1048000.00</td>\n      <td>1205095.20</td>\n    </tr>\n    <tr>\n      <th>18</th>\n      <td>Оптовая реализация</td>\n      <td>39934</td>\n      <td>Азитромицин-NIKAPHARM 500 мг №3 (кап.)</td>\n      <td>Nika-Pharm</td>\n      <td>307685543</td>\n      <td>АНТИДАРД ФАРМ дж</td>\n      <td>(Джиз) Кушбаков Зокир</td>\n      <td>(Джиз) Кушбаков Зокир</td>\n      <td>25</td>\n      <td>14500.00</td>\n      <td>16673.55</td>\n      <td>12.0</td>\n      <td>2024-03-04 10:44:00</td>\n      <td>174000.00</td>\n      <td>200082.60</td>\n    </tr>\n    <tr>\n      <th>19</th>\n      <td>Оптовая реализация</td>\n      <td>39896</td>\n      <td>Натрия тиосульфат 30% р-р 10мл №5 р-р д/и.</td>\n      <td>ЧНПП \"Радикс\"</td>\n      <td>201588378</td>\n      <td>КАМОЛА  МЧЖ (ДЖИЗЗАК)</td>\n      <td>(Джиз) Кушбаков Зокир</td>\n      <td>(Джиз) Кушбаков Зокир</td>\n      <td>25</td>\n      <td>5141.94</td>\n      <td>5912.72</td>\n      <td>24.0</td>\n      <td>2024-03-04 10:19:00</td>\n      <td>123406.56</td>\n      <td>141905.28</td>\n    </tr>\n    <tr>\n      <th>20</th>\n      <td>Оптовая реализация</td>\n      <td>39896</td>\n      <td>Катетер д/вливания стер.\"Игла бабочка\"22G</td>\n      <td>HEALTH LINE</td>\n      <td>201588378</td>\n      <td>КАМОЛА  МЧЖ (ДЖИЗЗАК)</td>\n      <td>(Джиз) Кушбаков Зокир</td>\n      <td>(Джиз) Кушбаков Зокир</td>\n      <td>25</td>\n      <td>824.00</td>\n      <td>725.12</td>\n      <td>50.0</td>\n      <td>2024-03-04 10:19:00</td>\n      <td>41200.00</td>\n      <td>36256.00</td>\n    </tr>\n    <tr>\n      <th>21</th>\n      <td>Оптовая реализация</td>\n      <td>39896</td>\n      <td>Лейкопластрь А Plast 19х72 №500</td>\n      <td>ООО\"AFFLATUS LAB\"</td>\n      <td>201588378</td>\n      <td>КАМОЛА  МЧЖ (ДЖИЗЗАК)</td>\n      <td>(Джиз) Кушбаков Зокир</td>\n      <td>(Джиз) Кушбаков Зокир</td>\n      <td>25</td>\n      <td>72000.00</td>\n      <td>82792.80</td>\n      <td>60.0</td>\n      <td>2024-03-04 10:19:00</td>\n      <td>4320000.00</td>\n      <td>4967568.00</td>\n    </tr>\n    <tr>\n      <th>22</th>\n      <td>Оптовая реализация</td>\n      <td>39896</td>\n      <td>Катетер внутривенный 20G(розов.)</td>\n      <td>KDM</td>\n      <td>201588378</td>\n      <td>КАМОЛА  МЧЖ (ДЖИЗЗАК)</td>\n      <td>(Джиз) Кушбаков Зокир</td>\n      <td>(Джиз) Кушбаков Зокир</td>\n      <td>25</td>\n      <td>2799.98</td>\n      <td>3219.70</td>\n      <td>300.0</td>\n      <td>2024-03-04 10:19:00</td>\n      <td>839994.00</td>\n      <td>965910.00</td>\n    </tr>\n    <tr>\n      <th>23</th>\n      <td>Оптовая реализация</td>\n      <td>39896</td>\n      <td>Ампициллин 500мг №50 пор. д/приг.р-ра д/в/м введе</td>\n      <td>Dentafill Plyus</td>\n      <td>201588378</td>\n      <td>КАМОЛА  МЧЖ (ДЖИЗЗАК)</td>\n      <td>(Джиз) Кушбаков Зокир</td>\n      <td>(Джиз) Кушбаков Зокир</td>\n      <td>25</td>\n      <td>199333.33</td>\n      <td>219266.67</td>\n      <td>4.0</td>\n      <td>2024-03-04 10:19:00</td>\n      <td>797333.32</td>\n      <td>877066.68</td>\n    </tr>\n    <tr>\n      <th>24</th>\n      <td>Оптовая реализация</td>\n      <td>39896</td>\n      <td>Натрия тиосульфат 300мг/мл 10мл №10 р-р д/инъе...</td>\n      <td>Дальхимфарм</td>\n      <td>201588378</td>\n      <td>КАМОЛА  МЧЖ (ДЖИЗЗАК)</td>\n      <td>(Джиз) Кушбаков Зокир</td>\n      <td>(Джиз) Кушбаков Зокир</td>\n      <td>25</td>\n      <td>11490.76</td>\n      <td>13213.23</td>\n      <td>70.0</td>\n      <td>2024-03-04 10:19:00</td>\n      <td>804353.20</td>\n      <td>924926.10</td>\n    </tr>\n  </tbody>\n</table>\n</div>"
     },
     "execution_count": 4,
     "metadata": {},
     "output_type": "execute_result"
    }
   ],
   "source": [
    "df"
   ],
   "metadata": {
    "collapsed": false,
    "ExecuteTime": {
     "end_time": "2024-03-04T16:08:53.795532Z",
     "start_time": "2024-03-04T16:08:53.780626Z"
    }
   },
   "id": "a46a05439a1b0229",
   "execution_count": 4
  },
  {
   "cell_type": "code",
   "outputs": [],
   "source": [],
   "metadata": {
    "collapsed": false
   },
   "id": "505ece9c734669bb"
  }
 ],
 "metadata": {
  "kernelspec": {
   "display_name": "Python 3",
   "language": "python",
   "name": "python3"
  },
  "language_info": {
   "codemirror_mode": {
    "name": "ipython",
    "version": 2
   },
   "file_extension": ".py",
   "mimetype": "text/x-python",
   "name": "python",
   "nbconvert_exporter": "python",
   "pygments_lexer": "ipython2",
   "version": "2.7.6"
  }
 },
 "nbformat": 4,
 "nbformat_minor": 5
}
