{
 "cells": [
  {
   "cell_type": "code",
   "execution_count": null,
   "id": "initial_id",
   "metadata": {
    "collapsed": true
   },
   "outputs": [],
   "source": [
    "import os\n",
    "from datetime import datetime, timedelta  # For working with dates\n",
    "import matplotlib.dates as mdates\n",
    "\n",
    "import pandas as pd  # For working with DataFrames\n",
    "from dotenv import load_dotenv\n",
    "from matplotlib.ticker import FuncFormatter\n",
    "from openpyxl import load_workbook\n",
    "from openpyxl.styles import NamedStyle, PatternFill, Border, Side\n",
    "from openpyxl.utils import get_column_letter\n",
    "from sqlalchemy import create_engine  # For crea\n",
    "import calendar\n",
    "import matplotlib.pyplot as plt\n",
    "from matplotlib.dates import DateFormatter\n",
    "\n",
    "##################### LOADING IMPORTANT DATA ######################\n",
    "# Load environment variables from the .env file\n",
    "env_file_path = 'D:/Projects/.env'\n",
    "load_dotenv(env_file_path)\n",
    "# Giving output file name\n",
    "output_file_path = 'ZAKAZ.xlsx'\n",
    "# Load data from different sheets in 'promotion.xlsx' into DataFrames\n",
    "promotion_path = r'D:\\Projects\\promotion.xlsx'\n",
    "region_df = pd.read_excel(promotion_path, sheet_name='Region')\n",
    "aksiya_df = pd.read_excel(promotion_path, sheet_name='Aksiya')\n",
    "paket_df = pd.read_excel(promotion_path, sheet_name='Paket')\n",
    "types_df = pd.read_excel(promotion_path, sheet_name='TYPES')\n",
    "\n",
    "##################### ACCESS ENV VARIABLES ######################\n",
    "db_server = os.getenv(\"DB_SERVER\")\n",
    "db_database = os.getenv(\"DB_DATABASE_ASKGLOBAL\")\n",
    "db_user = os.getenv(\"DB_USER\")\n",
    "db_password = os.getenv(\"DB_PASSWORD\")\n",
    "db_port = os.getenv(\"DB_PORT\")\n",
    "db_driver_name = os.getenv(\"DB_DRIVER_NAME\")\n",
    "\n",
    "##################### PROCEDURE NAME ######################\n",
    "procedure_name = os.getenv(\"MONTHLY\")  # THIS IS HOURLY DATA GATHERING\n",
    "\n",
    "##################### DATE - JANUARY ######################\n",
    "CURRENT_MONTH = datetime.now().month\n",
    "CURRENT_YEAR = datetime.now().year\n",
    "_, days_in_month = calendar.monthrange(CURRENT_YEAR, CURRENT_MONTH)\n",
    "\n",
    "date_begin = datetime(CURRENT_YEAR, CURRENT_MONTH, 1).strftime('%Y%m%d')\n",
    "date_end = datetime(CURRENT_YEAR, CURRENT_MONTH, days_in_month).strftime('%Y%m%d')\n",
    "##################### CONNECTION STRING AND SQL QUERY ######################\n",
    "# Construct the connection string\n",
    "\n",
    "conn_str = f\"mssql+pyodbc://{db_user}:{db_password}@{db_server}:{db_port}/{db_database}?driver={db_driver_name}\"\n",
    "engine = create_engine(conn_str)\n",
    "\n",
    "sql_query: str = f\"\"\"\n",
    "DECLARE @DateBegin DATE = ?;\n",
    "DECLARE @DateEnd DATE = ?;\n",
    "\n",
    "EXEC {procedure_name}\n",
    "@DataBegin = @DateBegin,\n",
    "@DataEnd = @DateEnd;\n",
    "\"\"\"\n",
    "\n",
    "#####################  EXECUTION  ######################\n",
    "df = pd.read_sql_query(sql_query, engine, params=(date_begin, date_end))"
   ]
  },
  {
   "cell_type": "code",
   "outputs": [],
   "source": [
    "# Filtering basic ones\n",
    "df['DataEntered'] = pd.to_datetime(df['DataEntered'])\n",
    "df = df[(df['DataEntered'].dt.month == CURRENT_MONTH) &\n",
    "        (df['DataEntered'].dt.year == CURRENT_YEAR) &\n",
    "        df['DocName'].isin(['Оптовая реализация', 'Финансовая скидка']) &\n",
    "        ~(df['InvoiceManager'].isin(['Бочкарева Альвина'])) &\n",
    "        (df['OutPrice'] >= 20_000)]\n",
    "df.info()"
   ],
   "metadata": {
    "collapsed": false
   },
   "id": "ee6b084b796581ff",
   "execution_count": null
  },
  {
   "cell_type": "code",
   "outputs": [],
   "source": [
    "result_df = df.copy()"
   ],
   "metadata": {
    "collapsed": false
   },
   "id": "934def3a4d2b9edc",
   "execution_count": null
  },
  {
   "cell_type": "code",
   "outputs": [],
   "source": [
    "def format_large_numbers(value, *pos):\n",
    "    if value >= 1e9:  # If the value is in billions\n",
    "        return f'{value / 1e9:.1f}B'\n",
    "    elif value >= 1e6:  # If the value is in millions\n",
    "        return f'{value / 1e6:.1f}M'\n",
    "    elif value >= 1e3:  # If the value is in thousands\n",
    "        return f'{value / 1e3:.1f}K'\n",
    "    else:  # For values less than 1000\n",
    "        return str(int(value))\n",
    "\n",
    "\n",
    "def abbreviate_good_name(name, max_words=3):\n",
    "    words = name.split()\n",
    "    if len(words) <= max_words:\n",
    "        return name\n",
    "    else:\n",
    "        return ' '.join(words[:max_words]) + '...'\n",
    "\n"
   ],
   "metadata": {
    "collapsed": false
   },
   "id": "bc0cb122592fffa",
   "execution_count": null
  },
  {
   "cell_type": "code",
   "outputs": [],
   "source": [
    "result_df = pd.merge(result_df, region_df[['ClientMan', 'Region']], left_on='ClientManager', right_on='ClientMan',\n",
    "                     how='left')\n",
    "\n",
    "result_df['inn_temp'] = pd.to_numeric(result_df['INN'], errors='coerce')\n",
    "types_df['INN_temp'] = pd.to_numeric(types_df['INN'], errors='coerce')\n",
    "result_df = pd.merge(result_df, types_df[['INN_temp', 'TYPE', 'RegionType']], left_on='inn_temp', right_on='INN_temp',\n",
    "                     how='left')\n",
    "\n",
    "result_df.fillna({'TYPE': 'ROZ'}, inplace=True)\n",
    "\n",
    "result_df.loc[result_df['TYPE'] == 'ROZ', 'RegionType'] = result_df['Region']\n",
    "\n",
    "result_df['OXVAT'] = result_df['INN'].map(result_df['INN'].value_counts())\n",
    "\n",
    "categorical_columns = ['Office', 'DocName', 'GoodId', 'Good', 'Producer', 'INN', 'Client', 'City', 'ClientType',\n",
    "                       'InvoiceManager', 'ClientManager', 'Store', 'StoreDep', 'DownPayment', 'PaymentTerm', 'Region',\n",
    "                       'RegionType', 'TYPE']\n",
    "\n",
    "result_df[categorical_columns] = result_df[categorical_columns].astype('category')\n",
    "# Assuming df is your DataFrame"
   ],
   "metadata": {
    "collapsed": false
   },
   "id": "d9685b96d20a9fc1",
   "execution_count": null
  },
  {
   "cell_type": "code",
   "outputs": [],
   "source": [
    "columns_to_drop = ([col for col in result_df.columns if col.endswith('_temp')] +\n",
    "                   ['ClientMan', 'Region', 'YY', 'MM', 'Data',\n",
    "                    'SerialNo', 'City', 'ClientType', 'Store', 'StoreDep',\n",
    "                    'InClient', 'Number',\n",
    "                    'Postavshik'\n",
    "                    ])\n",
    "# \n",
    "# # Drop the identified columns\n",
    "result_df.drop(columns=columns_to_drop, inplace=True)"
   ],
   "metadata": {
    "collapsed": false
   },
   "id": "d026980bed3f6315",
   "execution_count": null
  },
  {
   "cell_type": "code",
   "outputs": [],
   "source": [
    "# Group by 'Good' and sum the 'OutKolich' for each good\n",
    "goods_totals = result_df.groupby('Good', observed=False)['OutKolich'].sum().reset_index()\n",
    "\n",
    "# Sort goods based on total quantity in descending order\n",
    "top_goods = goods_totals.sort_values(by='OutKolich', ascending=False).tail(10)\n",
    "\n",
    "# Group by 'Good' and the date part of 'DataEntered', and sum the 'OutKolich' for each group\n",
    "daily_totals = result_df[result_df['Good'].isin(top_goods['Good'])].groupby(['Good', result_df['DataEntered'].dt.date],\n",
    "                                                                            observed=False)[\n",
    "    'OutKolich'].sum().reset_index()\n",
    "\n",
    "# Create the figure and axis objects\n",
    "fig, ax = plt.subplots(figsize=(12, 8))\n",
    "\n",
    "# Iterate over top 20 goods and plot a line for each\n",
    "for good, group in daily_totals.groupby('Good', observed=True):\n",
    "    line = ax.plot(group['DataEntered'], group['OutKolich'], label=good if good in top_goods['Good'].values else \"\",\n",
    "                   marker='o')[0]\n",
    "\n",
    "    # Annotate each point with its value\n",
    "    for i, (date, quantity) in enumerate(zip(group['DataEntered'], group['OutKolich'])):\n",
    "        ax.text(date, quantity, f'{format_large_numbers(quantity)}', color=line.get_color(), fontsize=14,\n",
    "                ha='left' if i % 2 == 0 else 'right', va='bottom')\n",
    "\n",
    "# ax.xaxis.set_major_formatter(FuncFormatter(lambda x, _: x.strftime('%d-%b')))\n",
    "plt.xticks(rotation=45, ha='right')  # Rotate x-axis labels for better readability\n",
    "# Set the x-axis formatter\n",
    "ax.xaxis.set_major_locator(mdates.DayLocator())  # Specify the locator for days (you may need to import mdates)\n",
    "ax.xaxis.set_major_formatter(DateFormatter('%d-%b'))  # Use DateFormatter to format dates\n",
    "\n",
    "# Set the y-axis formatter to the custom function\n",
    "ax.yaxis.set_major_formatter(FuncFormatter(format_large_numbers))\n",
    "\n",
    "# Customize other plot properties\n",
    "ax.set_title('Total Quantity of Top 20 Goods Over 5 Days')\n",
    "ax.set_xlabel('Date')\n",
    "ax.set_ylabel('Total Quantity (OutKolich)')\n",
    "ax.legend()\n",
    "ax.grid(True)\n",
    "\n",
    "# Show the plot\n",
    "plt.show()"
   ],
   "metadata": {
    "collapsed": false
   },
   "id": "79422efdf36317ec",
   "execution_count": null
  }
 ],
 "metadata": {
  "kernelspec": {
   "display_name": "Python 3",
   "language": "python",
   "name": "python3"
  },
  "language_info": {
   "codemirror_mode": {
    "name": "ipython",
    "version": 2
   },
   "file_extension": ".py",
   "mimetype": "text/x-python",
   "name": "python",
   "nbconvert_exporter": "python",
   "pygments_lexer": "ipython2",
   "version": "2.7.6"
  }
 },
 "nbformat": 4,
 "nbformat_minor": 5
}
