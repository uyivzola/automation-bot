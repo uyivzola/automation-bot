{
 "cells": [
  {
   "cell_type": "code",
   "execution_count": null,
   "id": "initial_id",
   "metadata": {
    "collapsed": true
   },
   "outputs": [],
   "source": [
    "\n",
    "import calendar\n",
    "from datetime import datetime  # For working with dates\n",
    "\n",
    "import matplotlib.pyplot as plt\n",
    "import pandas as pd  # For working with DataFrames\n",
    "import seaborn as sns\n",
    "from PIL import Image\n",
    "from matplotlib.ticker import FuncFormatter\n",
    "\n",
    "logo_path = r'D:\\Projects\\BOT\\reports\\trash_media\\logo.png'\n",
    "logo = Image.open(logo_path)\n",
    "size = 0.4\n",
    "# Resize the logo to 43% of its original size\n",
    "resized_width = int(logo.width * size)\n",
    "resized_height = int(logo.height * size)\n",
    "logo = logo.resize((resized_width, resized_height))\n",
    "\n",
    "sample_data_path = r'trash_media/sample_data.csv'\n",
    "promotion_path = r'D:\\Projects\\promotion.xlsx'\n",
    "region_df = pd.read_excel(promotion_path, sheet_name='Region')\n",
    "aksiya_df = pd.read_excel(promotion_path, sheet_name='Aksiya')\n",
    "paket_df = pd.read_excel(promotion_path, sheet_name='Paket')\n",
    "types_df = pd.read_excel(promotion_path, sheet_name='TYPES')\n",
    "\n",
    "CURRENT_MONTH = datetime.now().month\n",
    "CURRENT_YEAR = datetime.now().year\n",
    "_, days_in_month = calendar.monthrange(CURRENT_YEAR, CURRENT_MONTH)\n",
    "date_begin = datetime(CURRENT_YEAR, CURRENT_MONTH, 1).strftime('%Y%m%d')\n",
    "date_end = datetime(CURRENT_YEAR, CURRENT_MONTH, days_in_month).strftime('%Y%m%d')\n",
    "df = pd.read_csv(sample_data_path)\n",
    "df = df[df['DocumentType'].isin(['Оптовая реализация', 'Финансовая скидка'])\n",
    "        & ~(df['Отпустил'].isin(['Бочкарева Альвина']))\n",
    "        ]\n",
    "df.sample(10)"
   ]
  },
  {
   "cell_type": "code",
   "outputs": [],
   "source": [
    "result_df = pd.merge(df, region_df[['ClientMan', 'Region']], left_on='ClientManager', right_on='ClientMan',\n",
    "                     how='left')\n",
    "\n",
    "result_df['inn_temp'] = pd.to_numeric(result_df['INN'], errors='coerce')\n",
    "types_df['INN_temp'] = pd.to_numeric(types_df['INN'], errors='coerce')\n",
    "result_df = pd.merge(result_df, types_df[['INN_temp', 'TYPE', 'RegionType']], left_on='inn_temp', right_on='INN_temp',\n",
    "                     how='left')\n",
    "result_df.loc[result_df['TYPE'] == 'ROZ', 'RegionType'] = result_df['Region']\n",
    "result_df['OXVAT'] = result_df['INN'].map(result_df['INN'].value_counts())\n",
    "result_df.columns = ['DocName', 'InvoiceNumber', 'GoodId', 'Good', 'Producer', 'INN', 'ClientName', 'InvoiceManager',\n",
    "                     'ClientManager', 'PaymentTerm', 'BasePrice', 'SellingPrice', 'Quantity', 'DataEntered',\n",
    "                     'BaseAmount', 'TotalAmount', 'ClientMan', 'Region', 'inn_temp', 'INN_temp', 'TYPE', 'RegionType',\n",
    "                     'OXVAT']\n",
    "\n",
    "categorical_columns = ['DocName', 'GoodId', 'Good', 'Producer', 'INN', 'ClientName',\n",
    "                       'InvoiceManager', 'ClientManager', 'PaymentTerm', 'Region',\n",
    "                       'RegionType', 'TYPE']\n",
    "\n",
    "result_df[categorical_columns] = result_df[categorical_columns].astype('category')\n"
   ],
   "metadata": {
    "collapsed": false
   },
   "id": "8d8231049fcd4d10",
   "execution_count": null
  },
  {
   "cell_type": "code",
   "outputs": [],
   "source": [
    "result_df.info()"
   ],
   "metadata": {
    "collapsed": false
   },
   "id": "23794f05c5538198",
   "execution_count": null
  },
  {
   "cell_type": "code",
   "outputs": [],
   "source": [
    "columns_to_drop = ([col for col in result_df.columns if col.endswith('_temp')] +\n",
    "                   ['ClientMan'])\n",
    "# \n",
    "# # Drop the identified columns\n",
    "result_df.drop(columns=columns_to_drop, inplace=True)"
   ],
   "metadata": {
    "collapsed": false
   },
   "id": "b5dc7b9e5f565063",
   "execution_count": null
  },
  {
   "cell_type": "code",
   "outputs": [],
   "source": [
    "result_df.info()"
   ],
   "metadata": {
    "collapsed": false
   },
   "id": "2ed0d6a6cc5093c0",
   "execution_count": null
  },
  {
   "cell_type": "code",
   "outputs": [],
   "source": [
    "goods_totals = result_df.groupby(['ClientManager', 'Good'], observed=False)['Quantity'].sum().reset_index()\n",
    "top_goods = goods_totals.sort_values(by='Quantity', ascending=False)"
   ],
   "metadata": {
    "collapsed": false
   },
   "id": "b5aa7a9dcdb22084",
   "execution_count": null
  },
  {
   "cell_type": "code",
   "outputs": [],
   "source": [
    "\n",
    "# Function to format large numbers\n",
    "def format_large_numbers(value, pos):\n",
    "    if value >= 1e9:  # If the value is in billions\n",
    "        return f'{value / 1e9:.1f}B'\n",
    "    elif value >= 1e6:  # If the value is in millions\n",
    "        return f'{value / 1e6:.1f}M'\n",
    "    elif value >= 1e3:  # If the value is in thousands\n",
    "        return f'{value / 1e3:.1f}K'\n",
    "    else:  # For values less than 1000\n",
    "        return str(int(value))\n",
    "\n",
    "\n",
    "# Function to abbreviate or truncate the Good names\n",
    "def abbreviate_good_name(name, max_words=3):\n",
    "    words = name.split()\n",
    "    if len(words) <= max_words:\n",
    "        return name\n",
    "    else:\n",
    "        return ' '.join(words[:max_words]) + '...'\n",
    "\n"
   ],
   "metadata": {
    "collapsed": false
   },
   "id": "b568ea8a0737ffbd",
   "execution_count": null
  },
  {
   "cell_type": "code",
   "outputs": [],
   "source": [
    "def create_bar_plot(df, manager, title, x_column, y_column):\n",
    "    print(f'Plotting {title}')\n",
    "    # HOW MANY\n",
    "    top_rows = 20\n",
    "    df = df.head(top_rows).copy()\n",
    "    relevant_columns = df.columns[3:]\n",
    "\n",
    "    df[y_column] = df[y_column].apply(lambda x: abbreviate_good_name(x, max_words=3))\n",
    "\n",
    "    # pastel_palette = sns.color_palette(\"tab20b\")\n",
    "    # output_picture_path = f'reports/trash_media/Top_20_Goods_{output_file_path.split(\"_\")[1]}_{type_value}.png'\n",
    "\n",
    "    # Create a new figure\n",
    "    fig, ax = plt.subplots(figsize=(18, 10))\n",
    "    # Plotting horizontal bars using Seaborn\n",
    "    for m in manager:\n",
    "        bars = sns.barplot(x=x_column, y=y_column, data=df[df['ClientManager'] == m], ax=ax,\n",
    "                           errorbar=None, \n",
    "                           # hue=y_column,\n",
    "                           )\n",
    "\n",
    "        # Adding labels and title\n",
    "        ax.set_xlabel(f'{x_column}')\n",
    "        ax.set_ylabel(f'{y_column}')\n",
    "        ax.set_title(f'{title} :{m}')\n",
    "    \n",
    "        # Annotating each bar with its value\n",
    "        for bar, value in zip(bars.patches, df[x_column]):\n",
    "            ax.text(bar.get_width() + 0.005 * bar.get_width(), bar.get_y() + bar.get_height() / 2,\n",
    "                    format_large_numbers(value, None), va='center')\n",
    "    \n",
    "        # Format x-axis labels using the formatter function\n",
    "        ax.xaxis.set_major_formatter(FuncFormatter(format_large_numbers))\n",
    "        fig.figimage(logo, xo=1051.7, yo=65, alpha=0.5)  # Adjust xo, yo, and alpha as needed\n",
    "        plt.savefig(f'Sales_of_{m}.png', bbox_inches='tight')\n",
    "        plt.show()\n",
    "        plt.close()\n",
    "    \n"
   ],
   "metadata": {
    "collapsed": false
   },
   "id": "ea73afe10bad605f",
   "execution_count": null
  },
  {
   "cell_type": "code",
   "outputs": [],
   "source": [
    "import concurrent.futures\n",
    "\n",
    "def plot_for_manager(df, manager, title, x_column, y_column):\n",
    "    print(f'Plotting {title} for {manager}')\n",
    "    df_copy = df.copy()\n",
    "    df_copy[y_column] = df_copy[y_column].apply(lambda x: abbreviate_good_name(x, max_words=3))\n",
    "    fig, ax = plt.subplots(figsize=(18, 10))\n",
    "    bars = sns.barplot(x=x_column, y=y_column, data=df_copy[df_copy['ClientManager'] == manager], ax=ax,\n",
    "                       errorbar=None)\n",
    "    ax.set_xlabel(f'{x_column}')\n",
    "    ax.set_ylabel(f'{y_column}')\n",
    "    ax.set_title(f'{title} : {manager}')\n",
    "    for bar, value in zip(bars.patches, df_copy[x_column]):\n",
    "        ax.text(bar.get_width() + 0.005 * bar.get_width(), bar.get_y() + bar.get_height() / 2,\n",
    "                format_large_numbers(value, None), va='center')\n",
    "    ax.xaxis.set_major_formatter(FuncFormatter(format_large_numbers))\n",
    "    fig.figimage(logo, xo=1051.7, yo=65, alpha=0.5)  # Adjust xo, yo, and alpha as needed\n",
    "    plt.savefig(f'Sales_of_{manager}.png', bbox_inches='tight')\n",
    "    plt.close()\n",
    "\n",
    "def create_bar_plot_threaded(df, managers, title, x_column, y_column):\n",
    "    with concurrent.futures.ThreadPoolExecutor() as executor:\n",
    "        futures = []\n",
    "        for manager in managers:\n",
    "            futures.append(executor.submit(plot_for_manager, df, manager, title, x_column, y_column))\n",
    "        for future in concurrent.futures.as_completed(futures):\n",
    "            future.result()\n",
    "\n",
    "# Example usage:\n",
    "create_bar_plot_threaded(top_goods, managers=top_goods.ClientManager, title='Sales of', x_column='Quantity', y_column='Good')"
   ],
   "metadata": {
    "collapsed": false,
    "is_executing": true
   },
   "id": "2dfd3e3f56f94492",
   "execution_count": null
  },
  {
   "cell_type": "code",
   "outputs": [],
   "source": [
    "create_bar_plot(top_goods, manager=top_goods.ClientManager, title='Sales of', x_column='Quantity', y_column='Good')"
   ],
   "metadata": {
    "collapsed": false,
    "is_executing": true
   },
   "id": "d1f191f328fa34b4",
   "execution_count": null
  },
  {
   "cell_type": "code",
   "outputs": [],
   "source": [
    "top_goods.info()"
   ],
   "metadata": {
    "collapsed": false,
    "is_executing": true
   },
   "id": "75d05dff75ac1211",
   "execution_count": null
  },
  {
   "cell_type": "code",
   "outputs": [],
   "source": [],
   "metadata": {
    "collapsed": false
   },
   "id": "101f3d1271471bba"
  }
 ],
 "metadata": {
  "kernelspec": {
   "display_name": "Python 3",
   "language": "python",
   "name": "python3"
  },
  "language_info": {
   "codemirror_mode": {
    "name": "ipython",
    "version": 2
   },
   "file_extension": ".py",
   "mimetype": "text/x-python",
   "name": "python",
   "nbconvert_exporter": "python",
   "pygments_lexer": "ipython2",
   "version": "2.7.6"
  }
 },
 "nbformat": 4,
 "nbformat_minor": 5
}
