{
 "cells": [
  {
   "cell_type": "code",
   "execution_count": null,
   "id": "initial_id",
   "metadata": {
    "collapsed": true
   },
   "outputs": [],
   "source": [
    "import os\n",
    "from datetime import datetime\n",
    "\n",
    "import pandas as pd\n",
    "from dotenv import load_dotenv\n",
    "from openpyxl import Workbook\n",
    "from openpyxl.comments import Comment\n",
    "from openpyxl.styles import Border, Side, Alignment, PatternFill, Font\n",
    "from openpyxl.utils.dataframe import dataframe_to_rows\n",
    "from sqlalchemy import create_engine\n",
    "\n",
    "##################### LOADING IMPORTANT DATA ######################\n",
    "# Load environment variables from the .env file\n",
    "env_file_path = 'D:/Projects/.env'\n",
    "load_dotenv(env_file_path)\n",
    "# Giving output file name\n",
    "output_file_path = 'HOURLY.xlsx'\n",
    "##################### ACCESS ENV VARIABLES ######################\n",
    "db_server = os.getenv(\"DB_SERVER\")\n",
    "db_database = os.getenv(\"DB_DATABASE_SERGELI\")\n",
    "db_user = os.getenv(\"DB_USER\")\n",
    "db_password = os.getenv(\"DB_PASSWORD\")\n",
    "db_port = os.getenv(\"DB_PORT\")\n",
    "db_driver_name = os.getenv(\"DB_DRIVER_NAME\")\n",
    "\n",
    "##################### CONNECTION STRING AND SQL QUERY ######################\n",
    "# Construct the connection string\n",
    "conn_str = f\"mssql+pyodbc://{db_user}:{db_password}@{db_server}:{db_port}/{db_database}?driver={db_driver_name}\"\n",
    "engine = create_engine(conn_str)\n",
    "\n",
    "sql_query = f\"\"\"\n",
    "SELECT strdp.Name                                                               AS StoreDepName,\n",
    "       g.Name                                                                   AS GoodName,\n",
    "       a.Price,\n",
    "       IIF(BasePrice = 0, 0, ROUND(100 * (a.Price - BasePrice) / BasePrice, 0)) AS MarkUp,\n",
    "       il.ExpData                                                               AS ExpiryDate,\n",
    "       P.FindName                                                               AS ProducerName,\n",
    "       refpr.WholesalePrice                                                     as ReferencePrice\n",
    "FROM PriceListLn a\n",
    "         INNER JOIN\n",
    "     IncomeLn il\n",
    "     ON a.IncomeLnId = il.IncomeLnId\n",
    "         INNER JOIN\n",
    "     Income i ON il.IncomeId = i.IncomeId\n",
    "         INNER JOIN\n",
    "     Store st ON i.StoreId = st.StoreId\n",
    "         INNER JOIN\n",
    "     StoreDep strdp ON il.StoreDepId = strdp.StoreDepId\n",
    "         INNER JOIN\n",
    "     Good g ON il.GoodId = g.GoodId\n",
    "         INNER JOIN\n",
    "     Producer P ON g.ProducerId = P.ProducerId\n",
    "         LEFT JOIN\n",
    "     RefPrice refpr ON refpr.goodid = g.goodid\n",
    "         LEFT JOIN\n",
    "     GoodMaxPrice gMaxP ON il.GoodId = gMaxP.GoodId\n",
    "WHERE il.Ostatok > 0\n",
    "  AND il.Registr = 1\n",
    "  and il.Ostatok - il.Reserved > 0\n",
    "  AND i.StoreId = 1 -- Склад №1\n",
    "ORDER BY st.Name,\n",
    "         strdp.Name,\n",
    "         g.Name,\n",
    "         a.PriceListOrder;\n",
    "\"\"\"\n",
    "#####################  EXECUTION  ######################\n",
    "df = pd.read_sql_query(sql_query, engine)"
   ]
  },
  {
   "cell_type": "code",
   "outputs": [],
   "source": [
    "# Creating a new DataFrame and trim 'GoodName' and 'ProducerName' columns\n",
    "price_df = df.copy()\n",
    "price_df['GoodName'] = price_df['GoodName'].str.strip()\n",
    "price_df['ProducerName'] = price_df['ProducerName'].str.strip()\n",
    "\n",
    "# Filtering the ExpiryDate and making sure it is not an expired data\n",
    "price_df['ExpiryDate'] = pd.to_datetime(price_df['ExpiryDate'], format='%d.%m.%Y')\n",
    "today = datetime.now()\n",
    "start_of_next_month = today.replace(day=1, month=today.month + 1).strftime('%Y-%m-%d')\n",
    "price_df = price_df[price_df['ExpiryDate'] >= start_of_next_month]\n",
    "\n",
    "# Concatenate 'GoodName', 'ProducerName', and 'Price' columns into 'TriadConcat'\n",
    "price_df['TriadConcat'] = price_df['GoodName'] + price_df['ProducerName'] + price_df['Price'].astype(str)\n",
    "\n",
    "# Drop duplicates based on 'TriadConcat' column\n",
    "price_df.drop_duplicates(subset=['TriadConcat'], inplace=True)\n",
    "\n",
    "# Drop TriadConcat because we don't need more.\n",
    "price_df.drop(columns=['TriadConcat'], inplace=True)\n",
    "\n",
    "# Fill NaN values in ReferencePrice Column with Price column\n",
    "price_df.loc[:, 'ReferencePrice'] = price_df['ReferencePrice'].fillna(price_df['Price'])\n",
    "price_df['ExpiryDate'] = price_df['ExpiryDate'].dt.strftime('%d/%m/%Y')\n",
    "\n",
    "df = price_df.copy()\n",
    "\n",
    "# Sort by GoodName for all StoreDepName excluding НБО\n",
    "df_without_nbo = df[~df['StoreDepName'].str.contains('НБО')].sort_values(by='GoodName')\n",
    "df_without_nbo.index = range(1, len(df_without_nbo) + 1)\n",
    "\n",
    "# Sort by GoodName for only НБО StoreDepName\n",
    "df_nbo = df[df['StoreDepName'].str.contains('НБО')].sort_values(by='GoodName')\n",
    "df_nbo['MarkUp'] = 0\n",
    "df_nbo.index = range(1, len(df_nbo) + 1)\n",
    "\n",
    "# Concatenate both sorted dataframes\n",
    "df_final = pd.concat([df_without_nbo, df_nbo], ignore_index=True)\n",
    "df_final.index = range(1, len(df_final) + 1)\n",
    "columns_export = ['GoodName', 'Price', 'MarkUp', 'ExpiryDate', 'ProducerName', 'ReferencePrice']\n",
    "column_rename_dict = {\n",
    "    'GoodName': 'Наименование медикаментов',\n",
    "    'Price': 'Цена',\n",
    "    'MarkUp': 'Наценка',\n",
    "    'ExpiryDate': 'Срок годн.',\n",
    "    'ProducerName': 'Производитель',\n",
    "    'ReferencePrice': 'Референтная цена'\n",
    "}\n",
    "\n",
    "df_nbo = df_nbo[columns_export].rename(columns=column_rename_dict)"
   ],
   "metadata": {
    "collapsed": false
   },
   "id": "f48fc7f5799349f6",
   "execution_count": null
  },
  {
   "cell_type": "code",
   "outputs": [],
   "source": [
    "# Index => A\n",
    "# GoodName => B\n",
    "# Price => C\n",
    "# MarkUp => D\n",
    "# ExpiryDate  => E\n",
    "# ProducerName => F\n",
    "# ReferencePrice => G\n",
    "# Цена с НДС => H"
   ],
   "metadata": {
    "collapsed": false
   },
   "id": "2cb75c56f245a072"
  },
  {
   "cell_type": "code",
   "outputs": [
    {
     "name": "stdout",
     "output_type": "stream",
     "text": [
      "File Names:\n",
      "  1. ASKLEPIY_DISTRIBUTION_PRICE на 25.04.2024г.xlsx (ReferencePrice: True)\n",
      "  2. ASKLEPIY_DISTRIBUTION_PRICE на 25.04.2024г_PDF.xlsx (ReferencePrice: True)\n",
      "  3. Прайс-Лист 25.04.2024г.xlsx (ReferencePrice: False)\n",
      "  4. Прайс-Лист 25.04.2024 Без НБО.xlsx (ReferencePrice: False)\n",
      "  5. Асклепий_Прайс_для_печати_25.04.2024г.xlsx (ReferencePrice: False)\n"
     ]
    }
   ],
   "source": [
    "today = datetime.now().strftime('%d.%m.%Y')\n",
    "file_names = {\n",
    "    '1': {'name': f'ASKLEPIY_DISTRIBUTION_PRICE на {today}г.xlsx', 'ReferencePrice': True},\n",
    "    '2': {'name': f'ASKLEPIY_DISTRIBUTION_PRICE на {today}г_PDF.xlsx', 'ReferencePrice': True},\n",
    "    '3': {'name': f'Прайс-Лист {today}г.xlsx', 'ReferencePrice': False},\n",
    "    '4': {'name': f'Прайс-Лист {today} Без НБО.xlsx', 'ReferencePrice': False},\n",
    "    '5': {'name': f'Асклепий_Прайс_для_печати_{today}г.xlsx', 'ReferencePrice': False},\n",
    "}\n",
    "print(\"File Names:\")\n",
    "for key, value in file_names.items():\n",
    "    print(f\"  {key}. {value['name']} (ReferencePrice: {value['ReferencePrice']})\")"
   ],
   "metadata": {
    "collapsed": false,
    "ExecuteTime": {
     "end_time": "2024-04-25T15:27:37.468889Z",
     "start_time": "2024-04-25T15:27:37.464876Z"
    }
   },
   "id": "e9c01e90e15b759",
   "execution_count": 60
  },
  {
   "cell_type": "code",
   "outputs": [],
   "source": [
    "# Create a new workbook and select the active sheet\n",
    "\n",
    "wb_nbo = Workbook()\n",
    "ws = wb_nbo.active\n",
    "ws.sheet_properties.tabColor = 'FFC4C4'\n",
    "ws.title = 'ASKLEPIY DISTRIBUTION'"
   ],
   "metadata": {
    "collapsed": false
   },
   "id": "3d0ee822eb54d28f",
   "execution_count": null
  },
  {
   "cell_type": "code",
   "outputs": [],
   "source": [
    "# Insert df into the worksheet\n",
    "for row_data in dataframe_to_rows(df_nbo, header=True, index=True):\n",
    "    ws.append(row_data)\n",
    "ws['H1'] = 'Цена С НДС'\n",
    "ws['A1'] = '№'"
   ],
   "metadata": {
    "collapsed": false
   },
   "id": "b3fd526cc05319fb",
   "execution_count": null
  },
  {
   "cell_type": "code",
   "outputs": [],
   "source": [
    "# Цена С НДС H1 COLUMN\n",
    "nds_formula = '=ROUND(C{}+(C{}*12%),0)'\n",
    "\n",
    "for row in range(3, len(df_nbo) + 3):\n",
    "    cell = ws[f'H{row}']\n",
    "    cell.value = nds_formula.format(row, row)\n",
    "    cell.number_format = '### ### ### ##0'\n",
    "    cell.alignment = Alignment(horizontal='center', vertical='center')\n",
    "    cell.fill = PatternFill(start_color=\"FFF455\", end_color=\"FFF455\", fill_type=\"solid\")\n",
    "    cell.font = Font(bold=True, italic=True)\n",
    "\n",
    "# Adjust the width of the last column to fit the contents of cell H1\n",
    "last_column_width = len(str(ws['H1'].value)) + 2  # Add some padding\n",
    "ws.column_dimensions['H'].width = last_column_width\n",
    "\n",
    "# Create border style\n",
    "border_style = Border(\n",
    "    left=Side(style='thin'),\n",
    "    right=Side(style='thin'),\n",
    "    top=Side(style='thin'),\n",
    "    bottom=Side(style='thin')\n",
    ")\n",
    "for row in ws.iter_rows():\n",
    "    for cell in row:\n",
    "        cell.border = border_style\n",
    "        # Check if the cell contains a number\n",
    "        if isinstance(cell.value, (int, float)):\n",
    "            # Apply space-separated formatting to numbers\n",
    "            cell.number_format = '### ### ### ##0;-### ### ### ##0'\n",
    "            cell.alignment = Alignment(horizontal='center', vertical='center')\n",
    "\n",
    "# Iterate over all columns except the last one (column H)\n",
    "columns = list(ws.columns)\n",
    "for column in columns[:-1]:\n",
    "    max_length = 0\n",
    "    column_letter = column[0].column_letter\n",
    "    for cell in column:\n",
    "        value = cell.value\n",
    "        if value is not None:\n",
    "            max_length = max(max_length, len(str(value)))\n",
    "    adjusted_width = (max_length + 2) * 1\n",
    "    ws.column_dimensions[column_letter].width = adjusted_width\n",
    "\n",
    "# Adjust the width of the last column to fit the contents of cell H1\n",
    "last_column_width = len(str(ws['H1'].value)) + 2  # Add some padding\n",
    "ws.column_dimensions['H'].width = last_column_width\n",
    "\n",
    "# SOME COMMENTS AND CHANGES FOR BETTER QUALITY\n",
    "comment_markup = Comment(\"\"\"ATTHD:\n",
    "Наценка от базовой цены\n",
    "\"\"\", \"@hopxol\")\n",
    "ws['D1'].comment = comment_markup\n",
    "# Save the changes to the workbook\n",
    "wb_nbo.save(f'Прайс-Лист {datetime.now().strftime('%d.%m.%Y')} НБО.xlsx')"
   ],
   "metadata": {
    "collapsed": false
   },
   "id": "9c30bcebf9519fce",
   "execution_count": null
  },
  {
   "cell_type": "code",
   "outputs": [],
   "source": [
    "df_nbo = df_nbo[columns_export].rename(columns=column_rename_dict)\n",
    "\n",
    "# Create a new workbook and select the active sheet\n",
    "wb_without_nbo = Workbook()\n",
    "ws = wb_without_nbo.active\n",
    "ws.sheet_properties.tabColor = 'FFC4C4'\n",
    "ws.title = 'ASKLEPIY DISTRIBUTION'\n",
    "\n",
    "# Insert df into the worksheet\n",
    "for row_data in dataframe_to_rows(df_without_nbo, header=True, index=True):\n",
    "    ws.append(row_data)\n",
    "ws['H1'] = 'Цена С НДС'\n",
    "ws['A1'] = '№'\n",
    "\n",
    "# Цена С НДС H1 COLUMN\n",
    "nds_formula = '=ROUND(C{}+(C{}*12%),0)'"
   ],
   "metadata": {
    "collapsed": false
   },
   "id": "887455be759faa06"
  },
  {
   "cell_type": "code",
   "outputs": [],
   "source": [
    "df = price_df.copy()\n",
    "\n",
    "# First, sort by GoodName for all StoreDepName excluding NBO\n",
    "df_sorted = df[~df['StoreDepName'].str.contains('НБО')].sort_values(by='GoodName')\n",
    "\n",
    "# Then, sort by GoodName for only NBO StoreDepName\n",
    "df_nbo = df[df['StoreDepName'].str.contains('НБО')].sort_values(by='GoodName')\n",
    "\n",
    "# Concatenate both sorted dataframes\n",
    "df_final = pd.concat([df_sorted, df_nbo])"
   ],
   "metadata": {
    "collapsed": false
   },
   "id": "90da376ea8464feb",
   "execution_count": null
  }
 ],
 "metadata": {
  "kernelspec": {
   "display_name": "Python 3",
   "language": "python",
   "name": "python3"
  },
  "language_info": {
   "codemirror_mode": {
    "name": "ipython",
    "version": 2
   },
   "file_extension": ".py",
   "mimetype": "text/x-python",
   "name": "python",
   "nbconvert_exporter": "python",
   "pygments_lexer": "ipython2",
   "version": "2.7.6"
  }
 },
 "nbformat": 4,
 "nbformat_minor": 5
}
