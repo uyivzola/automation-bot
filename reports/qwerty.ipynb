{
 "cells": [
  {
   "cell_type": "code",
   "execution_count": null,
   "id": "initial_id",
   "metadata": {
    "collapsed": true
   },
   "outputs": [],
   "source": [
    "import os\n",
    "import streamlit as st\n",
    "import pandas as pd\n",
    "from matplotlib import pyplot as plt\n",
    "from sqlalchemy import create_engine\n",
    "from dotenv import load_dotenv\n",
    "from datetime import datetime, timedelta\n",
    "import seaborn as sns\n",
    "\n",
    "env_file_path = 'D:/Projects/.env'\n",
    "load_dotenv(env_file_path)\n",
    "# Giving output file name\n",
    "output_file_path = 'HOURLY.xlsx'\n",
    "# Load data from different sheets in 'promotion.xlsx' into DataFrames\n",
    "promotion_path = R'D:\\Projects\\promotion.xlsx'\n",
    "region_df = pd.read_excel(promotion_path, sheet_name='Region')\n",
    "aksiya_df = pd.read_excel(promotion_path, sheet_name='Aksiya')\n",
    "paket_df = pd.read_excel(promotion_path, sheet_name='Paket')\n",
    "types_df = pd.read_excel(promotion_path, sheet_name='TYPES')\n",
    "\n",
    "##################### ACCESS ENV VARIABLES ######################\n",
    "db_server = os.getenv(\"DB_SERVER\")\n",
    "db_database = os.getenv(\"DB_DATABASE_SERGELI\")\n",
    "db_user = os.getenv(\"DB_USER\")\n",
    "db_password = os.getenv(\"DB_PASSWORD\")\n",
    "db_port = os.getenv(\"DB_PORT\")\n",
    "db_driver_name = os.getenv(\"DB_DRIVER_NAME\")\n",
    "\n",
    "##################### PROCEDURE NAME ######################\n",
    "procedure_name = os.getenv(\"HOURLY_SHORT\")  # THIS IS HOURLY DATA GATHERING\n",
    "\n",
    "##################### DATE - JANUARY ######################\n",
    "CURRENT_MONTH = 1\n",
    "CURRENT_YEAR = 2024\n",
    "today_date = datetime.now().strftime('%d/%m/%Y')\n",
    "tomorrow_date = (datetime.now() + timedelta(days=1)).strftime('%d/%m/%Y')\n",
    "##################### CONNECTION STRING AND SQL QUERY ######################\n",
    "# Construct the connection string\n",
    "conn_str = f\"mssql+pyodbc://{db_user}:{db_password}@{db_server}:{db_port}/{db_database}?driver={db_driver_name}\"\n",
    "engine = create_engine(conn_str)\n",
    "\n",
    "sql_query = f\"\"\"\n",
    "    DECLARE @DateBegin DATE = ?;\n",
    "    DECLARE @DateEnd DATE = ?;\n",
    "\n",
    "    EXEC {procedure_name}\n",
    "        @DateBegin = @DateBegin,\n",
    "        @DateEnd = @DateBegin;\n",
    "\"\"\"\n",
    "\n",
    "#####################  EXECUTION  ######################\n",
    "df = pd.read_sql_query(sql_query, engine, params=(today_date, tomorrow_date))\n",
    "df.columns = [\n",
    "    'DocumentType', 'Invoice Number', 'Goodid', 'Good', 'Manufacturer',\n",
    "    'inn', 'ClientName', 'SalesManager', 'ClientMan', 'PaymentTerm',\n",
    "    'BasePrice', 'SellingPrice', 'Quantity', 'DateEntered', 'BaseAmount', 'TotalAmount'\n",
    "]\n",
    "df = df[df['DocumentType'].isin(['Оптовая реализация', 'Финансовая скидка'])]\n",
    "df = df[~(df['SalesManager'] == 'Бочкарева Альвина')]\n",
    "df = pd.merge(df, region_df[['ClientMan', 'Region']], left_on='ClientMan', right_on='ClientMan', how='left')\n",
    "\n",
    "df = pd.merge(df, aksiya_df[['Goodid', 'Aksiya']], left_on='Goodid', right_on='Goodid', how='left')\n",
    "df = pd.merge(df, paket_df[['Goodid', 'Paket']], left_on='Goodid', right_on='Goodid', how='left')\n",
    "df['inn_temp'] = pd.to_numeric(df['inn'], errors='coerce')\n",
    "types_df['INN_temp'] = pd.to_numeric(types_df['INN'], errors='coerce')\n",
    "df = pd.merge(df, types_df[['INN_temp', 'TYPE', 'RegionType']], left_on='inn_temp', right_on='INN_temp', how='left')\n",
    "df.fillna({'TYPE': 'ROZ'}, inplace=True)\n",
    "df.loc[df['TYPE'] == 'ROZ', 'RegionType'] = df['Region']\n",
    "df['OXVAT'] = df['inn'].map(df['inn'].value_counts())\n",
    "categorical_columns = ['DocumentType', 'Good', 'Manufacturer', 'inn', 'ClientName', 'SalesManager', 'ClientMan',\n",
    "                       'PaymentTerm', 'Region', 'RegionType', 'TYPE']\n",
    "\n",
    "df[categorical_columns] = df[categorical_columns].astype('category')\n",
    "columns_to_drop = [col for col in df.columns if col.endswith('_temp')]\n",
    "df.drop(columns=columns_to_drop, inplace=True)\n"
   ]
  },
  {
   "cell_type": "code",
   "outputs": [],
   "source": [
    "gr_df = df.groupby(['TYPE', 'RegionType'], observed=False)['TotalAmount'].sum().reset_index()\n",
    "unique_types = gr_df['TYPE'].unique()"
   ],
   "metadata": {
    "collapsed": false
   },
   "id": "ded6cb7fe7295657",
   "execution_count": null
  },
  {
   "cell_type": "code",
   "outputs": [],
   "source": [
    "gr_df = gr_df[gr_df['TotalAmount'] != 0]\n"
   ],
   "metadata": {
    "collapsed": false,
    "ExecuteTime": {
     "end_time": "2024-02-21T17:15:40.228962900Z",
     "start_time": "2024-02-21T17:15:40.221214Z"
    }
   },
   "id": "4be35e79d50fb937",
   "execution_count": 33
  },
  {
   "cell_type": "code",
   "outputs": [
    {
     "data": {
      "text/plain": "    TYPE      RegionType   TotalAmount\n0    ROZ         Андижан  2.979916e+08\n2    ROZ          Бухара  2.150854e+08\n4    ROZ          Джизак  8.005293e+07\n5    ROZ           Карши  4.755022e+08\n7    ROZ          Коканд  1.370107e+08\n8    ROZ           Навои  1.918754e+07\n10   ROZ        Наманган  1.394167e+08\n11   ROZ           Нукус  3.517162e+07\n12   ROZ       Самарканд  5.287914e+08\n13   ROZ          Термез  2.291366e+08\n14   ROZ          Ургенч  1.571957e+08\n15   ROZ         Фергана  2.181538e+08\n17   ROZ       Ч.Ташкент  1.639890e+08\n20   ROZ      Чо.Таш обл  2.768039e+08\n21   ROZ     Чс.Сырдарья  1.391952e+08\n40   Опт   Ч.Ташкент-Опт  4.182896e+08\n45  Сеть    Андижан-Сеть  6.934052e+05\n47  Сеть     Бухара-Сеть  7.839993e+06\n50  Сеть      Карши-Сеть  4.318954e+07\n53  Сеть      Навои-Сеть  4.586318e+07\n60  Сеть    Фергана-Сеть  1.854399e+07\n63  Сеть  Ч.Ташкент-Сеть  1.828525e+08",
      "text/html": "<div>\n<style scoped>\n    .dataframe tbody tr th:only-of-type {\n        vertical-align: middle;\n    }\n\n    .dataframe tbody tr th {\n        vertical-align: top;\n    }\n\n    .dataframe thead th {\n        text-align: right;\n    }\n</style>\n<table border=\"1\" class=\"dataframe\">\n  <thead>\n    <tr style=\"text-align: right;\">\n      <th></th>\n      <th>TYPE</th>\n      <th>RegionType</th>\n      <th>TotalAmount</th>\n    </tr>\n  </thead>\n  <tbody>\n    <tr>\n      <th>0</th>\n      <td>ROZ</td>\n      <td>Андижан</td>\n      <td>2.979916e+08</td>\n    </tr>\n    <tr>\n      <th>2</th>\n      <td>ROZ</td>\n      <td>Бухара</td>\n      <td>2.150854e+08</td>\n    </tr>\n    <tr>\n      <th>4</th>\n      <td>ROZ</td>\n      <td>Джизак</td>\n      <td>8.005293e+07</td>\n    </tr>\n    <tr>\n      <th>5</th>\n      <td>ROZ</td>\n      <td>Карши</td>\n      <td>4.755022e+08</td>\n    </tr>\n    <tr>\n      <th>7</th>\n      <td>ROZ</td>\n      <td>Коканд</td>\n      <td>1.370107e+08</td>\n    </tr>\n    <tr>\n      <th>8</th>\n      <td>ROZ</td>\n      <td>Навои</td>\n      <td>1.918754e+07</td>\n    </tr>\n    <tr>\n      <th>10</th>\n      <td>ROZ</td>\n      <td>Наманган</td>\n      <td>1.394167e+08</td>\n    </tr>\n    <tr>\n      <th>11</th>\n      <td>ROZ</td>\n      <td>Нукус</td>\n      <td>3.517162e+07</td>\n    </tr>\n    <tr>\n      <th>12</th>\n      <td>ROZ</td>\n      <td>Самарканд</td>\n      <td>5.287914e+08</td>\n    </tr>\n    <tr>\n      <th>13</th>\n      <td>ROZ</td>\n      <td>Термез</td>\n      <td>2.291366e+08</td>\n    </tr>\n    <tr>\n      <th>14</th>\n      <td>ROZ</td>\n      <td>Ургенч</td>\n      <td>1.571957e+08</td>\n    </tr>\n    <tr>\n      <th>15</th>\n      <td>ROZ</td>\n      <td>Фергана</td>\n      <td>2.181538e+08</td>\n    </tr>\n    <tr>\n      <th>17</th>\n      <td>ROZ</td>\n      <td>Ч.Ташкент</td>\n      <td>1.639890e+08</td>\n    </tr>\n    <tr>\n      <th>20</th>\n      <td>ROZ</td>\n      <td>Чо.Таш обл</td>\n      <td>2.768039e+08</td>\n    </tr>\n    <tr>\n      <th>21</th>\n      <td>ROZ</td>\n      <td>Чс.Сырдарья</td>\n      <td>1.391952e+08</td>\n    </tr>\n    <tr>\n      <th>40</th>\n      <td>Опт</td>\n      <td>Ч.Ташкент-Опт</td>\n      <td>4.182896e+08</td>\n    </tr>\n    <tr>\n      <th>45</th>\n      <td>Сеть</td>\n      <td>Андижан-Сеть</td>\n      <td>6.934052e+05</td>\n    </tr>\n    <tr>\n      <th>47</th>\n      <td>Сеть</td>\n      <td>Бухара-Сеть</td>\n      <td>7.839993e+06</td>\n    </tr>\n    <tr>\n      <th>50</th>\n      <td>Сеть</td>\n      <td>Карши-Сеть</td>\n      <td>4.318954e+07</td>\n    </tr>\n    <tr>\n      <th>53</th>\n      <td>Сеть</td>\n      <td>Навои-Сеть</td>\n      <td>4.586318e+07</td>\n    </tr>\n    <tr>\n      <th>60</th>\n      <td>Сеть</td>\n      <td>Фергана-Сеть</td>\n      <td>1.854399e+07</td>\n    </tr>\n    <tr>\n      <th>63</th>\n      <td>Сеть</td>\n      <td>Ч.Ташкент-Сеть</td>\n      <td>1.828525e+08</td>\n    </tr>\n  </tbody>\n</table>\n</div>"
     },
     "execution_count": 34,
     "metadata": {},
     "output_type": "execute_result"
    }
   ],
   "source": [
    "gr_df"
   ],
   "metadata": {
    "collapsed": false,
    "ExecuteTime": {
     "end_time": "2024-02-21T17:15:44.936311600Z",
     "start_time": "2024-02-21T17:15:44.925554900Z"
    }
   },
   "id": "9e202887899ac0d2",
   "execution_count": 34
  },
  {
   "cell_type": "code",
   "outputs": [],
   "source": [],
   "metadata": {
    "collapsed": false
   },
   "id": "6c8243943bca64af"
  }
 ],
 "metadata": {
  "kernelspec": {
   "display_name": "Python 3",
   "language": "python",
   "name": "python3"
  },
  "language_info": {
   "codemirror_mode": {
    "name": "ipython",
    "version": 2
   },
   "file_extension": ".py",
   "mimetype": "text/x-python",
   "name": "python",
   "nbconvert_exporter": "python",
   "pygments_lexer": "ipython2",
   "version": "2.7.6"
  }
 },
 "nbformat": 4,
 "nbformat_minor": 5
}
